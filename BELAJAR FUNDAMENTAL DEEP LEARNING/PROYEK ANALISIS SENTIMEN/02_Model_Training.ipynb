{
  "nbformat": 4,
  "nbformat_minor": 0,
  "metadata": {
    "colab": {
      "provenance": []
    },
    "kernelspec": {
      "name": "python3",
      "display_name": "Python 3"
    },
    "language_info": {
      "name": "python"
    }
  },
  "cells": [
    {
      "cell_type": "markdown",
      "source": [
        "# CELL 1: INSTALASI DAN IMPORT LIBRARY"
      ],
      "metadata": {
        "id": "Mg8DSKLAGhx9"
      }
    },
    {
      "cell_type": "code",
      "source": [
        "!pip install nltk scikit-learn wordcloud gensim seaborn matplotlib tensorflow numpy pandas\n",
        "\n",
        "import pandas as pd\n",
        "import numpy as np\n",
        "import matplotlib.pyplot as plt\n",
        "import seaborn as sns\n",
        "import warnings\n",
        "import re\n",
        "import string\n",
        "import time\n",
        "import joblib\n",
        "from datetime import datetime\n",
        "\n",
        "# Text processing\n",
        "import nltk\n",
        "from nltk.corpus import stopwords\n",
        "from nltk.tokenize import word_tokenize\n",
        "nltk.download('punkt', quiet=True)\n",
        "nltk.download('punkt_tab', quiet=True)\n",
        "nltk.download('stopwords', quiet=True)\n",
        "\n",
        "# Machine Learning & Deep Learning\n",
        "from sklearn.model_selection import train_test_split\n",
        "from sklearn.preprocessing import LabelEncoder\n",
        "from imblearn.over_sampling import RandomOverSampler\n",
        "import tensorflow as tf\n",
        "from tensorflow.keras.preprocessing.text import Tokenizer\n",
        "from tensorflow.keras.preprocessing.sequence import pad_sequences\n",
        "from tensorflow.keras.models import Sequential\n",
        "from tensorflow.keras.layers import Embedding, LSTM, Bidirectional, Dense, Dropout, GlobalMaxPooling1D\n",
        "from tensorflow.keras.callbacks import EarlyStopping, ReduceLROnPlateau\n",
        "\n",
        "warnings.filterwarnings('ignore')\n",
        "print(\"✅ Library berhasil diimport dan di-setup!\")\n",
        "print(f\"✅ TensorFlow version: {tf.__version__}\")"
      ],
      "metadata": {
        "colab": {
          "base_uri": "https://localhost:8080/"
        },
        "id": "APqCEe0zGilS",
        "outputId": "5b454793-8798-4d57-cd3c-0c5159fae16b"
      },
      "execution_count": null,
      "outputs": [
        {
          "output_type": "stream",
          "name": "stdout",
          "text": [
            "Requirement already satisfied: nltk in /usr/local/lib/python3.12/dist-packages (3.9.1)\n",
            "Requirement already satisfied: scikit-learn in /usr/local/lib/python3.12/dist-packages (1.6.1)\n",
            "Requirement already satisfied: wordcloud in /usr/local/lib/python3.12/dist-packages (1.9.4)\n",
            "Requirement already satisfied: gensim in /usr/local/lib/python3.12/dist-packages (4.3.3)\n",
            "Requirement already satisfied: seaborn in /usr/local/lib/python3.12/dist-packages (0.13.2)\n",
            "Requirement already satisfied: matplotlib in /usr/local/lib/python3.12/dist-packages (3.10.0)\n",
            "Requirement already satisfied: tensorflow in /usr/local/lib/python3.12/dist-packages (2.19.0)\n",
            "Requirement already satisfied: numpy in /usr/local/lib/python3.12/dist-packages (1.26.4)\n",
            "Requirement already satisfied: pandas in /usr/local/lib/python3.12/dist-packages (2.2.2)\n",
            "Requirement already satisfied: click in /usr/local/lib/python3.12/dist-packages (from nltk) (8.2.1)\n",
            "Requirement already satisfied: joblib in /usr/local/lib/python3.12/dist-packages (from nltk) (1.5.1)\n",
            "Requirement already satisfied: regex>=2021.8.3 in /usr/local/lib/python3.12/dist-packages (from nltk) (2024.11.6)\n",
            "Requirement already satisfied: tqdm in /usr/local/lib/python3.12/dist-packages (from nltk) (4.67.1)\n",
            "Requirement already satisfied: scipy>=1.6.0 in /usr/local/lib/python3.12/dist-packages (from scikit-learn) (1.13.1)\n",
            "Requirement already satisfied: threadpoolctl>=3.1.0 in /usr/local/lib/python3.12/dist-packages (from scikit-learn) (3.6.0)\n",
            "Requirement already satisfied: pillow in /usr/local/lib/python3.12/dist-packages (from wordcloud) (11.3.0)\n",
            "Requirement already satisfied: smart-open>=1.8.1 in /usr/local/lib/python3.12/dist-packages (from gensim) (7.3.0.post1)\n",
            "Requirement already satisfied: contourpy>=1.0.1 in /usr/local/lib/python3.12/dist-packages (from matplotlib) (1.3.3)\n",
            "Requirement already satisfied: cycler>=0.10 in /usr/local/lib/python3.12/dist-packages (from matplotlib) (0.12.1)\n",
            "Requirement already satisfied: fonttools>=4.22.0 in /usr/local/lib/python3.12/dist-packages (from matplotlib) (4.59.1)\n",
            "Requirement already satisfied: kiwisolver>=1.3.1 in /usr/local/lib/python3.12/dist-packages (from matplotlib) (1.4.9)\n",
            "Requirement already satisfied: packaging>=20.0 in /usr/local/lib/python3.12/dist-packages (from matplotlib) (25.0)\n",
            "Requirement already satisfied: pyparsing>=2.3.1 in /usr/local/lib/python3.12/dist-packages (from matplotlib) (3.2.3)\n",
            "Requirement already satisfied: python-dateutil>=2.7 in /usr/local/lib/python3.12/dist-packages (from matplotlib) (2.9.0.post0)\n",
            "Requirement already satisfied: absl-py>=1.0.0 in /usr/local/lib/python3.12/dist-packages (from tensorflow) (1.4.0)\n",
            "Requirement already satisfied: astunparse>=1.6.0 in /usr/local/lib/python3.12/dist-packages (from tensorflow) (1.6.3)\n",
            "Requirement already satisfied: flatbuffers>=24.3.25 in /usr/local/lib/python3.12/dist-packages (from tensorflow) (25.2.10)\n",
            "Requirement already satisfied: gast!=0.5.0,!=0.5.1,!=0.5.2,>=0.2.1 in /usr/local/lib/python3.12/dist-packages (from tensorflow) (0.6.0)\n",
            "Requirement already satisfied: google-pasta>=0.1.1 in /usr/local/lib/python3.12/dist-packages (from tensorflow) (0.2.0)\n",
            "Requirement already satisfied: libclang>=13.0.0 in /usr/local/lib/python3.12/dist-packages (from tensorflow) (18.1.1)\n",
            "Requirement already satisfied: opt-einsum>=2.3.2 in /usr/local/lib/python3.12/dist-packages (from tensorflow) (3.4.0)\n",
            "Requirement already satisfied: protobuf!=4.21.0,!=4.21.1,!=4.21.2,!=4.21.3,!=4.21.4,!=4.21.5,<6.0.0dev,>=3.20.3 in /usr/local/lib/python3.12/dist-packages (from tensorflow) (5.29.5)\n",
            "Requirement already satisfied: requests<3,>=2.21.0 in /usr/local/lib/python3.12/dist-packages (from tensorflow) (2.32.4)\n",
            "Requirement already satisfied: setuptools in /usr/local/lib/python3.12/dist-packages (from tensorflow) (75.2.0)\n",
            "Requirement already satisfied: six>=1.12.0 in /usr/local/lib/python3.12/dist-packages (from tensorflow) (1.17.0)\n",
            "Requirement already satisfied: termcolor>=1.1.0 in /usr/local/lib/python3.12/dist-packages (from tensorflow) (3.1.0)\n",
            "Requirement already satisfied: typing-extensions>=3.6.6 in /usr/local/lib/python3.12/dist-packages (from tensorflow) (4.15.0)\n",
            "Requirement already satisfied: wrapt>=1.11.0 in /usr/local/lib/python3.12/dist-packages (from tensorflow) (1.17.3)\n",
            "Requirement already satisfied: grpcio<2.0,>=1.24.3 in /usr/local/lib/python3.12/dist-packages (from tensorflow) (1.74.0)\n",
            "Requirement already satisfied: tensorboard~=2.19.0 in /usr/local/lib/python3.12/dist-packages (from tensorflow) (2.19.0)\n",
            "Requirement already satisfied: keras>=3.5.0 in /usr/local/lib/python3.12/dist-packages (from tensorflow) (3.10.0)\n",
            "Requirement already satisfied: h5py>=3.11.0 in /usr/local/lib/python3.12/dist-packages (from tensorflow) (3.14.0)\n",
            "Requirement already satisfied: ml-dtypes<1.0.0,>=0.5.1 in /usr/local/lib/python3.12/dist-packages (from tensorflow) (0.5.3)\n",
            "Requirement already satisfied: pytz>=2020.1 in /usr/local/lib/python3.12/dist-packages (from pandas) (2025.2)\n",
            "Requirement already satisfied: tzdata>=2022.7 in /usr/local/lib/python3.12/dist-packages (from pandas) (2025.2)\n",
            "Requirement already satisfied: wheel<1.0,>=0.23.0 in /usr/local/lib/python3.12/dist-packages (from astunparse>=1.6.0->tensorflow) (0.45.1)\n",
            "Requirement already satisfied: rich in /usr/local/lib/python3.12/dist-packages (from keras>=3.5.0->tensorflow) (13.9.4)\n",
            "Requirement already satisfied: namex in /usr/local/lib/python3.12/dist-packages (from keras>=3.5.0->tensorflow) (0.1.0)\n",
            "Requirement already satisfied: optree in /usr/local/lib/python3.12/dist-packages (from keras>=3.5.0->tensorflow) (0.17.0)\n",
            "Requirement already satisfied: charset_normalizer<4,>=2 in /usr/local/lib/python3.12/dist-packages (from requests<3,>=2.21.0->tensorflow) (3.4.3)\n",
            "Requirement already satisfied: idna<4,>=2.5 in /usr/local/lib/python3.12/dist-packages (from requests<3,>=2.21.0->tensorflow) (3.10)\n",
            "Requirement already satisfied: urllib3<3,>=1.21.1 in /usr/local/lib/python3.12/dist-packages (from requests<3,>=2.21.0->tensorflow) (2.5.0)\n",
            "Requirement already satisfied: certifi>=2017.4.17 in /usr/local/lib/python3.12/dist-packages (from requests<3,>=2.21.0->tensorflow) (2025.8.3)\n",
            "Requirement already satisfied: markdown>=2.6.8 in /usr/local/lib/python3.12/dist-packages (from tensorboard~=2.19.0->tensorflow) (3.8.2)\n",
            "Requirement already satisfied: tensorboard-data-server<0.8.0,>=0.7.0 in /usr/local/lib/python3.12/dist-packages (from tensorboard~=2.19.0->tensorflow) (0.7.2)\n",
            "Requirement already satisfied: werkzeug>=1.0.1 in /usr/local/lib/python3.12/dist-packages (from tensorboard~=2.19.0->tensorflow) (3.1.3)\n",
            "Requirement already satisfied: MarkupSafe>=2.1.1 in /usr/local/lib/python3.12/dist-packages (from werkzeug>=1.0.1->tensorboard~=2.19.0->tensorflow) (3.0.2)\n",
            "Requirement already satisfied: markdown-it-py>=2.2.0 in /usr/local/lib/python3.12/dist-packages (from rich->keras>=3.5.0->tensorflow) (4.0.0)\n",
            "Requirement already satisfied: pygments<3.0.0,>=2.13.0 in /usr/local/lib/python3.12/dist-packages (from rich->keras>=3.5.0->tensorflow) (2.19.2)\n",
            "Requirement already satisfied: mdurl~=0.1 in /usr/local/lib/python3.12/dist-packages (from markdown-it-py>=2.2.0->rich->keras>=3.5.0->tensorflow) (0.1.2)\n",
            "✅ Library berhasil diimport dan di-setup!\n",
            "✅ TensorFlow version: 2.19.0\n"
          ]
        }
      ]
    },
    {
      "cell_type": "markdown",
      "source": [
        "# CELL 2: MEMUAT DATASET"
      ],
      "metadata": {
        "id": "UAKvAbeZGwyl"
      }
    },
    {
      "cell_type": "code",
      "source": [
        "# --- PENTING ---\n",
        "# Pastikan file CSV dari notebook scraping Anda sudah di-upload ke environment Colab.\n",
        "# Ganti nama file di bawah ini jika berbeda.\n",
        "DATASET_FILE = 'gps_reviews_dataset_20250904_034801.csv'\n",
        "\n",
        "try:\n",
        "    df = pd.read_csv(DATASET_FILE)\n",
        "    print(f\"✅ Dataset '{DATASET_FILE}' berhasil dimuat!\")\n",
        "    print(f\"   - Jumlah data awal: {len(df):,} baris\")\n",
        "    print(f\"   - Kolom: {list(df.columns)}\")\n",
        "except FileNotFoundError:\n",
        "    print(f\"❌ ERROR: File '{DATASET_FILE}' tidak ditemukan!\")\n",
        "    print(\"   - Harap upload file CSV hasil scraping Anda dan sesuaikan nama filenya.\")\n",
        "    df = pd.DataFrame() # Buat dataframe kosong agar tidak error di cell berikutnya"
      ],
      "metadata": {
        "colab": {
          "base_uri": "https://localhost:8080/"
        },
        "id": "1w49B1t4GxMK",
        "outputId": "cb9d6853-8175-4a8a-98a6-2a2639fa565b"
      },
      "execution_count": null,
      "outputs": [
        {
          "output_type": "stream",
          "name": "stdout",
          "text": [
            "✅ Dataset 'gps_reviews_dataset_20250904_034801.csv' berhasil dimuat!\n",
            "   - Jumlah data awal: 14,308 baris\n",
            "   - Kolom: ['app_id', 'app_name', 'review_id', 'user_name', 'content', 'score', 'thumbs_up_count', 'at', 'sentiment']\n"
          ]
        }
      ]
    },
    {
      "cell_type": "markdown",
      "source": [
        "# CELL 3: EKSPLORASI DATA AWAL (EDA)"
      ],
      "metadata": {
        "id": "ADPki21xG9Ms"
      }
    },
    {
      "cell_type": "code",
      "source": [
        "if not df.empty:\n",
        "    print(\"\\n🔍 ANALISIS EKSPLORASI DATA AWAL (EDA)\")\n",
        "\n",
        "    # Visualisasi Distribusi Sentimen Awal\n",
        "    plt.figure(figsize=(12, 5))\n",
        "    plt.subplot(1, 2, 1)\n",
        "    sns.countplot(x='sentiment', data=df, order=['positif', 'negatif', 'netral'])\n",
        "    plt.title('Distribusi Sentimen Awal')\n",
        "    plt.xlabel('Sentimen')\n",
        "    plt.ylabel('Jumlah')\n",
        "\n",
        "    # Visualisasi Distribusi Rating\n",
        "    plt.subplot(1, 2, 2)\n",
        "    sns.countplot(x='score', data=df, order=[1, 2, 3, 4, 5])\n",
        "    plt.title('Distribusi Rating Bintang Awal')\n",
        "    plt.xlabel('Rating')\n",
        "    plt.ylabel('Jumlah')\n",
        "    plt.tight_layout()\n",
        "    plt.show()\n"
      ],
      "metadata": {
        "colab": {
          "base_uri": "https://localhost:8080/",
          "height": 391
        },
        "id": "DbDfB9g5G905",
        "outputId": "3867e478-f150-4570-a9d1-09deaa0695da"
      },
      "execution_count": null,
      "outputs": [
        {
          "output_type": "stream",
          "name": "stdout",
          "text": [
            "\n",
            "🔍 ANALISIS EKSPLORASI DATA AWAL (EDA)\n"
          ]
        },
        {
          "output_type": "display_data",
          "data": {
            "text/plain": [
              "<Figure size 1200x500 with 2 Axes>"
            ],
            "image/png": "[encoded data removed]"
          },
          "metadata": {}
        }
      ]
    },
    {
      "cell_type": "markdown",
      "source": [
        "# CELL 4: TEXT PREPROCESSING"
      ],
      "metadata": {
        "id": "sDzwCcDzHB6Q"
      }
    },
    {
      "cell_type": "code",
      "source": [
        "if not df.empty:\n",
        "    print(\"\\n🧹 PROSES PEMBERSIHAN TEKS (PREPROCESSING)\")\n",
        "\n",
        "    # Setup stopwords (Indonesian + English) - sama seperti di notebook Anda\n",
        "    indonesian_stopwords = set(['yang', 'dan', 'di', 'ke', 'dari', 'dalam', 'untuk', 'pada', 'dengan', 'oleh', 'adalah', 'akan', 'telah', 'sudah', 'masih', 'dapat', 'bisa', 'harus', 'belum', 'ini', 'itu', 'tersebut', 'seperti', 'antara', 'karena', 'sehingga', 'tetapi', 'atau', 'jika', 'maka', 'agar', 'supaya', 'bahwa', 'dimana', 'ketika', 'saat', 'saya', 'anda', 'kamu', 'dia', 'mereka', 'kita', 'kami', 'kalian', 'tidak', 'bukan', 'jangan', 'tanpa', 'kecuali', 'selain', 'sangat', 'lebih', 'paling', 'cukup', 'agak', 'sedikit', 'banyak', 'app', 'aplikasi', 'google', 'play', 'store', 'android', 'ios'])\n",
        "    english_stopwords = set(stopwords.words('english'))\n",
        "    all_stopwords = indonesian_stopwords.union(english_stopwords)\n",
        "\n",
        "    def advanced_preprocess(text):\n",
        "        if pd.isna(text): return \"\"\n",
        "        text = str(text).lower()\n",
        "        text = re.sub(r'http\\S+|www\\S+|https\\S+', '', text, flags=re.MULTILINE)\n",
        "        text = re.sub(r'\\S+@\\S+', '', text)\n",
        "        text = re.sub(r'@\\w+|#\\w+', '', text)\n",
        "        text = re.sub(r'\\d+', '', text)\n",
        "        text = re.sub(r'[^\\w\\s]', ' ', text) # Hapus tanda baca\n",
        "        text = re.sub(r'\\s+', ' ', text).strip()\n",
        "        tokens = word_tokenize(text)\n",
        "        filtered_tokens = [token for token in tokens if token.lower() not in all_stopwords and len(token) > 2]\n",
        "        return ' '.join(filtered_tokens)\n",
        "\n",
        "    # Terapkan preprocessing\n",
        "    print(\"   - Menerapkan fungsi preprocessing pada kolom 'content'...\")\n",
        "    df['processed_content'] = df['content'].apply(advanced_preprocess)\n",
        "\n",
        "    # Hapus baris yang kontennya kosong setelah diproses\n",
        "    initial_len = len(df)\n",
        "    df.dropna(subset=['processed_content'], inplace=True)\n",
        "    df = df[df['processed_content'].str.len() > 5]\n",
        "    final_len = len(df)\n",
        "\n",
        "    print(f\"   - Preprocessing selesai. Data tersisa: {final_len:,} (dihapus {initial_len - final_len:,})\")\n",
        "    print(\"\\n   - Contoh hasil:\")\n",
        "    print(f\"     Original : \\\"{df['content'].iloc[10]}\\\"\")\n",
        "    print(f\"     Processed: \\\"{df['processed_content'].iloc[10]}\\\"\")"
      ],
      "metadata": {
        "colab": {
          "base_uri": "https://localhost:8080/"
        },
        "id": "pa5Z4W1oHCVE",
        "outputId": "be7b7697-eb70-4c46-abdb-197c5c88210e"
      },
      "execution_count": null,
      "outputs": [
        {
          "output_type": "stream",
          "name": "stdout",
          "text": [
            "\n",
            "🧹 PROSES PEMBERSIHAN TEKS (PREPROCESSING)\n",
            "   - Menerapkan fungsi preprocessing pada kolom 'content'...\n",
            "   - Preprocessing selesai. Data tersisa: 14,053 (dihapus 255)\n",
            "\n",
            "   - Contoh hasil:\n",
            "     Original : \"oke banget\"\n",
            "     Processed: \"oke banget\"\n"
          ]
        }
      ]
    },
    {
      "cell_type": "markdown",
      "source": [
        "# CELL 5: PENANGANAN CLASS IMBALANCE"
      ],
      "metadata": {
        "id": "TB2jdEC8HYDR"
      }
    },
    {
      "cell_type": "code",
      "source": [
        "if not df.empty:\n",
        "    print(\"\\n⚖️ PENANGANAN CLASS IMBALANCE\")\n",
        "\n",
        "    ros = RandomOverSampler(random_state=42)\n",
        "    X_resampled, y_resampled = ros.fit_resample(df[['processed_content']], df['sentiment'])\n",
        "\n",
        "    df_balanced = pd.DataFrame(X_resampled, columns=['processed_content'])\n",
        "    df_balanced['sentiment'] = y_resampled\n",
        "\n",
        "    print(\"   - Distribusi sebelum oversampling:\")\n",
        "    print(df['sentiment'].value_counts())\n",
        "    print(\"\\n   - Distribusi setelah oversampling:\")\n",
        "    print(df_balanced['sentiment'].value_counts())\n",
        "\n",
        "    # Visualisasi setelah balancing\n",
        "    plt.figure(figsize=(6, 4))\n",
        "    sns.countplot(x='sentiment', data=df_balanced, order=['positif', 'negatif', 'netral'])\n",
        "    plt.title('Distribusi Sentimen Setelah Oversampling')\n",
        "    plt.show()"
      ],
      "metadata": {
        "colab": {
          "base_uri": "https://localhost:8080/",
          "height": 679
        },
        "id": "X9I7abzEHZ-E",
        "outputId": "a1eeb5cb-a7cf-4a4b-fa2b-651d42268c2c"
      },
      "execution_count": null,
      "outputs": [
        {
          "output_type": "stream",
          "name": "stdout",
          "text": [
            "\n",
            "⚖️ PENANGANAN CLASS IMBALANCE\n",
            "   - Distribusi sebelum oversampling:\n",
            "sentiment\n",
            "positif    7216\n",
            "negatif    5946\n",
            "netral      891\n",
            "Name: count, dtype: int64\n",
            "\n",
            "   - Distribusi setelah oversampling:\n",
            "sentiment\n",
            "negatif    7216\n",
            "positif    7216\n",
            "netral     7216\n",
            "Name: count, dtype: int64\n"
          ]
        },
        {
          "output_type": "display_data",
          "data": {
            "text/plain": [
              "<Figure size 600x400 with 1 Axes>"
            ],
            "image/png": "[encoded data removed]"
          },
          "metadata": {}
        }
      ]
    },
    {
      "cell_type": "markdown",
      "source": [
        "# CELL 6: FEATURE EXTRACTION (TOKENIZATION & PADDING)"
      ],
      "metadata": {
        "id": "G7cTVG_DHdev"
      }
    },
    {
      "cell_type": "code",
      "source": [
        "if 'df_balanced' in locals():\n",
        "    print(\"\\n🔡 FEATURE EXTRACTION UNTUK DEEP LEARNING\")\n",
        "\n",
        "    # Pisahkan fitur dan label\n",
        "    texts = df_balanced['processed_content'].values\n",
        "    labels = df_balanced['sentiment'].values\n",
        "\n",
        "    # Label Encoding\n",
        "    encoder = LabelEncoder()\n",
        "    labels_encoded = encoder.fit_transform(labels)\n",
        "\n",
        "    # Tokenisasi\n",
        "    vocab_size = 10000\n",
        "    oov_tok = \"<OOV>\"\n",
        "    tokenizer = Tokenizer(num_words=vocab_size, oov_token=oov_tok)\n",
        "    tokenizer.fit_on_texts(texts)\n",
        "\n",
        "    # Konversi teks ke sekuens angka\n",
        "    sequences = tokenizer.texts_to_sequences(texts)\n",
        "\n",
        "    # Padding\n",
        "    max_length = 100 # Panjang maksimum sekuens\n",
        "    padded_sequences = pad_sequences(sequences, maxlen=max_length, padding='post', truncating='post')\n",
        "\n",
        "    print(f\"   - Ukuran vocabulary: {len(tokenizer.word_index)}\")\n",
        "    print(f\"   - Bentuk data padded: {padded_sequences.shape}\")\n",
        "    print(f\"   - Bentuk data label: {labels_encoded.shape}\")"
      ],
      "metadata": {
        "colab": {
          "base_uri": "https://localhost:8080/"
        },
        "id": "lHgsc3V_HeLU",
        "outputId": "9f5ccec5-8a98-4c15-d1c9-78df72fcf010"
      },
      "execution_count": null,
      "outputs": [
        {
          "output_type": "stream",
          "name": "stdout",
          "text": [
            "\n",
            "🔡 FEATURE EXTRACTION UNTUK DEEP LEARNING\n",
            "   - Ukuran vocabulary: 14361\n",
            "   - Bentuk data padded: (21648, 100)\n",
            "   - Bentuk data label: (21648,)\n"
          ]
        }
      ]
    },
    {
      "cell_type": "markdown",
      "source": [
        "# CELL 7: DATA SPLITTING UNTUK MODEL\n"
      ],
      "metadata": {
        "id": "YAivc1DgHiqg"
      }
    },
    {
      "cell_type": "code",
      "source": [
        "if 'padded_sequences' in locals():\n",
        "    print(\"\\n✂️ PEMBAGIAN DATA (TRAIN & TEST)\")\n",
        "\n",
        "    X_train, X_test, y_train, y_test = train_test_split(\n",
        "        padded_sequences,\n",
        "        labels_encoded,\n",
        "        test_size=0.2, # Sesuai skema 80/20\n",
        "        random_state=42,\n",
        "        stratify=labels_encoded\n",
        "    )\n",
        "\n",
        "    print(f\"   - Data Latih (Train): {X_train.shape}, {y_train.shape}\")\n",
        "    print(f\"   - Data Uji (Test)  : {X_test.shape}, {y_test.shape}\")"
      ],
      "metadata": {
        "colab": {
          "base_uri": "https://localhost:8080/"
        },
        "id": "e7vkMVXKHjmo",
        "outputId": "06a4a108-7777-4059-c499-1b8afa6867e0"
      },
      "execution_count": null,
      "outputs": [
        {
          "output_type": "stream",
          "name": "stdout",
          "text": [
            "\n",
            "✂️ PEMBAGIAN DATA (TRAIN & TEST)\n",
            "   - Data Latih (Train): (17318, 100), (17318,)\n",
            "   - Data Uji (Test)  : (4330, 100), (4330,)\n"
          ]
        }
      ]
    },
    {
      "cell_type": "markdown",
      "source": [
        "# CELL 8: PEMBUATAN & PELATIHAN MODEL (3 SKEMA)"
      ],
      "metadata": {
        "id": "NP_90qieHnC7"
      }
    },
    {
      "cell_type": "code",
      "source": [
        "if 'X_train' in locals():\n",
        "    print(\"\\n🤖 PEMBUATAN DAN PELATIHAN MODEL DEEP LEARNING\")\n",
        "\n",
        "    # Konfigurasi umum\n",
        "    embedding_dim = 64\n",
        "    num_classes = len(encoder.classes_)\n",
        "\n",
        "    # Callbacks\n",
        "    early_stopping = EarlyStopping(monitor='val_loss', patience=3, restore_best_weights=True)\n",
        "    reduce_lr = ReduceLROnPlateau(monitor='val_loss', factor=0.2, patience=2, min_lr=1e-6)\n",
        "\n",
        "    histories = {}\n",
        "\n",
        "    # --- SKEMA 1: Model LSTM Sederhana ---\n",
        "    print(\"\\n--- [SKEMA 1] Melatih Model LSTM Sederhana ---\")\n",
        "    model_lstm = Sequential([\n",
        "        Embedding(input_dim=vocab_size, output_dim=embedding_dim, input_length=max_length),\n",
        "        LSTM(64),\n",
        "        Dense(32, activation='relu'),\n",
        "        Dropout(0.5),\n",
        "        Dense(num_classes, activation='softmax')\n",
        "    ])\n",
        "    model_lstm.compile(loss='sparse_categorical_crossentropy', optimizer='adam', metrics=['accuracy'])\n",
        "    model_lstm.summary()\n",
        "\n",
        "    history_lstm = model_lstm.fit(\n",
        "        X_train, y_train,\n",
        "        epochs=15,\n",
        "        batch_size=64,\n",
        "        validation_data=(X_test, y_test),\n",
        "        callbacks=[early_stopping, reduce_lr]\n",
        "    )\n",
        "    histories['LSTM'] = history_lstm\n",
        "\n",
        "    # --- SKEMA 2: Model Bidirectional LSTM ---\n",
        "    print(\"\\n--- [SKEMA 2] Melatih Model Bidirectional LSTM ---\")\n",
        "    model_bilstm = Sequential([\n",
        "        Embedding(input_dim=vocab_size, output_dim=embedding_dim, input_length=max_length),\n",
        "        Bidirectional(LSTM(64, return_sequences=True)),\n",
        "        GlobalMaxPooling1D(),\n",
        "        Dense(64, activation='relu'),\n",
        "        Dropout(0.5),\n",
        "        Dense(num_classes, activation='softmax')\n",
        "    ])\n",
        "    model_bilstm.compile(loss='sparse_categorical_crossentropy', optimizer='adam', metrics=['accuracy'])\n",
        "    model_bilstm.summary()\n",
        "\n",
        "    history_bilstm = model_bilstm.fit(\n",
        "        X_train, y_train,\n",
        "        epochs=15,\n",
        "        batch_size=64,\n",
        "        validation_data=(X_test, y_test),\n",
        "        callbacks=[early_stopping, reduce_lr]\n",
        "    )\n",
        "    histories['BiLSTM'] = history_bilstm\n",
        "\n",
        "    # --- SKEMA 3: Model BiLSTM dengan Dropout lebih banyak ---\n",
        "    # Variasi pada arsitektur model\n",
        "    print(\"\\n--- [SKEMA 3] Melatih Model BiLSTM dengan Dropout lebih banyak ---\")\n",
        "    model_bilstm_v2 = Sequential([\n",
        "        Embedding(input_dim=vocab_size, output_dim=embedding_dim, input_length=max_length),\n",
        "        Bidirectional(LSTM(128, return_sequences=True)),\n",
        "        GlobalMaxPooling1D(),\n",
        "        Dense(128, activation='relu'),\n",
        "        Dropout(0.6),\n",
        "        Dense(64, activation='relu'),\n",
        "        Dropout(0.4),\n",
        "        Dense(num_classes, activation='softmax')\n",
        "    ])\n",
        "    model_bilstm_v2.compile(loss='sparse_categorical_crossentropy', optimizer='adam', metrics=['accuracy'])\n",
        "    model_bilstm_v2.summary()\n",
        "\n",
        "    history_bilstm_v2 = model_bilstm_v2.fit(\n",
        "        X_train, y_train,\n",
        "        epochs=15,\n",
        "        batch_size=64,\n",
        "        validation_data=(X_test, y_test),\n",
        "        callbacks=[early_stopping, reduce_lr]\n",
        "    )\n",
        "    histories['BiLSTM_v2'] = history_bilstm_v2"
      ],
      "metadata": {
        "colab": {
          "base_uri": "https://localhost:8080/",
          "height": 1000
        },
        "id": "dy4msd3qHnpo",
        "outputId": "b5ba5bb4-9c6a-4b13-fffa-d6cc249c03ad"
      },
      "execution_count": null,
      "outputs": [
        {
          "output_type": "stream",
          "name": "stdout",
          "text": [
            "\n",
            "🤖 PEMBUATAN DAN PELATIHAN MODEL DEEP LEARNING\n",
            "\n",
            "--- [SKEMA 1] Melatih Model LSTM Sederhana ---\n"
          ]
        },
        {
          "output_type": "display_data",
          "data": {
            "text/plain": [
              "\u001b[1mModel: \"sequential\"\u001b[0m\n"
            ],
            "text/html": [
              "<pre style=\"white-space:pre;overflow-x:auto;line-height:normal;font-family:Menlo,'DejaVu Sans Mono',consolas,'Courier New',monospace\"><span style=\"font-weight: bold\">Model: \"sequential\"</span>\n",
              "</pre>\n"
            ]
          },
          "metadata": {}
        },
        {
          "output_type": "display_data",
          "data": {
            "text/plain": [
              "┏━━━━━━━━━━━━━━━━━━━━━━━━━━━━━━━━━┳━━━━━━━━━━━━━━━━━━━━━━━━┳━━━━━━━━━━━━━━━┓\n",
              "┃\u001b[1m \u001b[0m\u001b[1mLayer (type)                   \u001b[0m\u001b[1m \u001b[0m┃\u001b[1m \u001b[0m\u001b[1mOutput Shape          \u001b[0m\u001b[1m \u001b[0m┃\u001b[1m \u001b[0m\u001b[1m      Param #\u001b[0m\u001b[1m \u001b[0m┃\n",
              "┡━━━━━━━━━━━━━━━━━━━━━━━━━━━━━━━━━╇━━━━━━━━━━━━━━━━━━━━━━━━╇━━━━━━━━━━━━━━━┩\n",
              "│ embedding (\u001b[38;5;33mEmbedding\u001b[0m)           │ ?                      │   \u001b[38;5;34m0\u001b[0m (unbuilt) │\n",
              "├─────────────────────────────────┼────────────────────────┼───────────────┤\n",
              "│ lstm (\u001b[38;5;33mLSTM\u001b[0m)                     │ ?                      │   \u001b[38;5;34m0\u001b[0m (unbuilt) │\n",
              "├─────────────────────────────────┼────────────────────────┼───────────────┤\n",
              "│ dense (\u001b[38;5;33mDense\u001b[0m)                   │ ?                      │   \u001b[38;5;34m0\u001b[0m (unbuilt) │\n",
              "├─────────────────────────────────┼────────────────────────┼───────────────┤\n",
              "│ dropout (\u001b[38;5;33mDropout\u001b[0m)               │ ?                      │             \u001b[38;5;34m0\u001b[0m │\n",
              "├─────────────────────────────────┼────────────────────────┼───────────────┤\n",
              "│ dense_1 (\u001b[38;5;33mDense\u001b[0m)                 │ ?                      │   \u001b[38;5;34m0\u001b[0m (unbuilt) │\n",
              "└─────────────────────────────────┴────────────────────────┴───────────────┘\n"
            ],
            "text/html": [
              "<pre style=\"white-space:pre;overflow-x:auto;line-height:normal;font-family:Menlo,'DejaVu Sans Mono',consolas,'Courier New',monospace\">┏━━━━━━━━━━━━━━━━━━━━━━━━━━━━━━━━━┳━━━━━━━━━━━━━━━━━━━━━━━━┳━━━━━━━━━━━━━━━┓\n",
              "┃<span style=\"font-weight: bold\"> Layer (type)                    </span>┃<span style=\"font-weight: bold\"> Output Shape           </span>┃<span style=\"font-weight: bold\">       Param # </span>┃\n",
              "┡━━━━━━━━━━━━━━━━━━━━━━━━━━━━━━━━━╇━━━━━━━━━━━━━━━━━━━━━━━━╇━━━━━━━━━━━━━━━┩\n",
              "│ embedding (<span style=\"color: #0087ff; text-decoration-color: #0087ff\">Embedding</span>)           │ ?                      │   <span style=\"color: #00af00; text-decoration-color: #00af00\">0</span> (unbuilt) │\n",
              "├─────────────────────────────────┼────────────────────────┼───────────────┤\n",
              "│ lstm (<span style=\"color: #0087ff; text-decoration-color: #0087ff\">LSTM</span>)                     │ ?                      │   <span style=\"color: #00af00; text-decoration-color: #00af00\">0</span> (unbuilt) │\n",
              "├─────────────────────────────────┼────────────────────────┼───────────────┤\n",
              "│ dense (<span style=\"color: #0087ff; text-decoration-color: #0087ff\">Dense</span>)                   │ ?                      │   <span style=\"color: #00af00; text-decoration-color: #00af00\">0</span> (unbuilt) │\n",
              "├─────────────────────────────────┼────────────────────────┼───────────────┤\n",
              "│ dropout (<span style=\"color: #0087ff; text-decoration-color: #0087ff\">Dropout</span>)               │ ?                      │             <span style=\"color: #00af00; text-decoration-color: #00af00\">0</span> │\n",
              "├─────────────────────────────────┼────────────────────────┼───────────────┤\n",
              "│ dense_1 (<span style=\"color: #0087ff; text-decoration-color: #0087ff\">Dense</span>)                 │ ?                      │   <span style=\"color: #00af00; text-decoration-color: #00af00\">0</span> (unbuilt) │\n",
              "└─────────────────────────────────┴────────────────────────┴───────────────┘\n",
              "</pre>\n"
            ]
          },
          "metadata": {}
        },
        {
          "output_type": "display_data",
          "data": {
            "text/plain": [
              "\u001b[1m Total params: \u001b[0m\u001b[38;5;34m0\u001b[0m (0.00 B)\n"
            ],
            "text/html": [
              "<pre style=\"white-space:pre;overflow-x:auto;line-height:normal;font-family:Menlo,'DejaVu Sans Mono',consolas,'Courier New',monospace\"><span style=\"font-weight: bold\"> Total params: </span><span style=\"color: #00af00; text-decoration-color: #00af00\">0</span> (0.00 B)\n",
              "</pre>\n"
            ]
          },
          "metadata": {}
        },
        {
          "output_type": "display_data",
          "data": {
            "text/plain": [
              "\u001b[1m Trainable params: \u001b[0m\u001b[38;5;34m0\u001b[0m (0.00 B)\n"
            ],
            "text/html": [
              "<pre style=\"white-space:pre;overflow-x:auto;line-height:normal;font-family:Menlo,'DejaVu Sans Mono',consolas,'Courier New',monospace\"><span style=\"font-weight: bold\"> Trainable params: </span><span style=\"color: #00af00; text-decoration-color: #00af00\">0</span> (0.00 B)\n",
              "</pre>\n"
            ]
          },
          "metadata": {}
        },
        {
          "output_type": "display_data",
          "data": {
            "text/plain": [
              "\u001b[1m Non-trainable params: \u001b[0m\u001b[38;5;34m0\u001b[0m (0.00 B)\n"
            ],
            "text/html": [
              "<pre style=\"white-space:pre;overflow-x:auto;line-height:normal;font-family:Menlo,'DejaVu Sans Mono',consolas,'Courier New',monospace\"><span style=\"font-weight: bold\"> Non-trainable params: </span><span style=\"color: #00af00; text-decoration-color: #00af00\">0</span> (0.00 B)\n",
              "</pre>\n"
            ]
          },
          "metadata": {}
        },
        {
          "output_type": "stream",
          "name": "stdout",
          "text": [
            "Epoch 1/15\n",
            "\u001b[1m271/271\u001b[0m \u001b[32m━━━━━━━━━━━━━━━━━━━━\u001b[0m\u001b[37m\u001b[0m \u001b[1m26s\u001b[0m 87ms/step - accuracy: 0.3327 - loss: 1.0992 - val_accuracy: 0.3335 - val_loss: 1.0986 - learning_rate: 0.0010\n",
            "Epoch 2/15\n",
            "\u001b[1m271/271\u001b[0m \u001b[32m━━━━━━━━━━━━━━━━━━━━\u001b[0m\u001b[37m\u001b[0m \u001b[1m22s\u001b[0m 83ms/step - accuracy: 0.3294 - loss: 1.0988 - val_accuracy: 0.3333 - val_loss: 1.0986 - learning_rate: 0.0010\n",
            "Epoch 3/15\n",
            "\u001b[1m271/271\u001b[0m \u001b[32m━━━━━━━━━━━━━━━━━━━━\u001b[0m\u001b[37m\u001b[0m \u001b[1m39s\u001b[0m 76ms/step - accuracy: 0.3322 - loss: 1.0987 - val_accuracy: 0.3333 - val_loss: 1.0986 - learning_rate: 0.0010\n",
            "Epoch 4/15\n",
            "\u001b[1m271/271\u001b[0m \u001b[32m━━━━━━━━━━━━━━━━━━━━\u001b[0m\u001b[37m\u001b[0m \u001b[1m42s\u001b[0m 79ms/step - accuracy: 0.3331 - loss: 1.0986 - val_accuracy: 0.3333 - val_loss: 1.0986 - learning_rate: 2.0000e-04\n",
            "Epoch 5/15\n",
            "\u001b[1m271/271\u001b[0m \u001b[32m━━━━━━━━━━━━━━━━━━━━\u001b[0m\u001b[37m\u001b[0m \u001b[1m42s\u001b[0m 83ms/step - accuracy: 0.3349 - loss: 1.0986 - val_accuracy: 0.3333 - val_loss: 1.0986 - learning_rate: 2.0000e-04\n",
            "Epoch 6/15\n",
            "\u001b[1m271/271\u001b[0m \u001b[32m━━━━━━━━━━━━━━━━━━━━\u001b[0m\u001b[37m\u001b[0m \u001b[1m39s\u001b[0m 77ms/step - accuracy: 0.3400 - loss: 1.0986 - val_accuracy: 0.3333 - val_loss: 1.0986 - learning_rate: 4.0000e-05\n",
            "Epoch 7/15\n",
            "\u001b[1m271/271\u001b[0m \u001b[32m━━━━━━━━━━━━━━━━━━━━\u001b[0m\u001b[37m\u001b[0m \u001b[1m41s\u001b[0m 79ms/step - accuracy: 0.3375 - loss: 1.0986 - val_accuracy: 0.3333 - val_loss: 1.0986 - learning_rate: 4.0000e-05\n",
            "Epoch 8/15\n",
            "\u001b[1m271/271\u001b[0m \u001b[32m━━━━━━━━━━━━━━━━━━━━\u001b[0m\u001b[37m\u001b[0m \u001b[1m22s\u001b[0m 80ms/step - accuracy: 0.3305 - loss: 1.0986 - val_accuracy: 0.3333 - val_loss: 1.0986 - learning_rate: 8.0000e-06\n",
            "Epoch 9/15\n",
            "\u001b[1m271/271\u001b[0m \u001b[32m━━━━━━━━━━━━━━━━━━━━\u001b[0m\u001b[37m\u001b[0m \u001b[1m41s\u001b[0m 79ms/step - accuracy: 0.3368 - loss: 1.0986 - val_accuracy: 0.3333 - val_loss: 1.0986 - learning_rate: 8.0000e-06\n",
            "Epoch 10/15\n",
            "\u001b[1m271/271\u001b[0m \u001b[32m━━━━━━━━━━━━━━━━━━━━\u001b[0m\u001b[37m\u001b[0m \u001b[1m20s\u001b[0m 75ms/step - accuracy: 0.3271 - loss: 1.0986 - val_accuracy: 0.3333 - val_loss: 1.0986 - learning_rate: 1.6000e-06\n",
            "\n",
            "--- [SKEMA 2] Melatih Model Bidirectional LSTM ---\n"
          ]
        },
        {
          "output_type": "display_data",
          "data": {
            "text/plain": [
              "\u001b[1mModel: \"sequential_1\"\u001b[0m\n"
            ],
            "text/html": [
              "<pre style=\"white-space:pre;overflow-x:auto;line-height:normal;font-family:Menlo,'DejaVu Sans Mono',consolas,'Courier New',monospace\"><span style=\"font-weight: bold\">Model: \"sequential_1\"</span>\n",
              "</pre>\n"
            ]
          },
          "metadata": {}
        },
        {
          "output_type": "display_data",
          "data": {
            "text/plain": [
              "┏━━━━━━━━━━━━━━━━━━━━━━━━━━━━━━━━━┳━━━━━━━━━━━━━━━━━━━━━━━━┳━━━━━━━━━━━━━━━┓\n",
              "┃\u001b[1m \u001b[0m\u001b[1mLayer (type)                   \u001b[0m\u001b[1m \u001b[0m┃\u001b[1m \u001b[0m\u001b[1mOutput Shape          \u001b[0m\u001b[1m \u001b[0m┃\u001b[1m \u001b[0m\u001b[1m      Param #\u001b[0m\u001b[1m \u001b[0m┃\n",
              "┡━━━━━━━━━━━━━━━━━━━━━━━━━━━━━━━━━╇━━━━━━━━━━━━━━━━━━━━━━━━╇━━━━━━━━━━━━━━━┩\n",
              "│ embedding_1 (\u001b[38;5;33mEmbedding\u001b[0m)         │ ?                      │   \u001b[38;5;34m0\u001b[0m (unbuilt) │\n",
              "├─────────────────────────────────┼────────────────────────┼───────────────┤\n",
              "│ bidirectional (\u001b[38;5;33mBidirectional\u001b[0m)   │ ?                      │   \u001b[38;5;34m0\u001b[0m (unbuilt) │\n",
              "├─────────────────────────────────┼────────────────────────┼───────────────┤\n",
              "│ global_max_pooling1d            │ ?                      │             \u001b[38;5;34m0\u001b[0m │\n",
              "│ (\u001b[38;5;33mGlobalMaxPooling1D\u001b[0m)            │                        │               │\n",
              "├─────────────────────────────────┼────────────────────────┼───────────────┤\n",
              "│ dense_2 (\u001b[38;5;33mDense\u001b[0m)                 │ ?                      │   \u001b[38;5;34m0\u001b[0m (unbuilt) │\n",
              "├─────────────────────────────────┼────────────────────────┼───────────────┤\n",
              "│ dropout_1 (\u001b[38;5;33mDropout\u001b[0m)             │ ?                      │             \u001b[38;5;34m0\u001b[0m │\n",
              "├─────────────────────────────────┼────────────────────────┼───────────────┤\n",
              "│ dense_3 (\u001b[38;5;33mDense\u001b[0m)                 │ ?                      │   \u001b[38;5;34m0\u001b[0m (unbuilt) │\n",
              "└─────────────────────────────────┴────────────────────────┴───────────────┘\n"
            ],
            "text/html": [
              "<pre style=\"white-space:pre;overflow-x:auto;line-height:normal;font-family:Menlo,'DejaVu Sans Mono',consolas,'Courier New',monospace\">┏━━━━━━━━━━━━━━━━━━━━━━━━━━━━━━━━━┳━━━━━━━━━━━━━━━━━━━━━━━━┳━━━━━━━━━━━━━━━┓\n",
              "┃<span style=\"font-weight: bold\"> Layer (type)                    </span>┃<span style=\"font-weight: bold\"> Output Shape           </span>┃<span style=\"font-weight: bold\">       Param # </span>┃\n",
              "┡━━━━━━━━━━━━━━━━━━━━━━━━━━━━━━━━━╇━━━━━━━━━━━━━━━━━━━━━━━━╇━━━━━━━━━━━━━━━┩\n",
              "│ embedding_1 (<span style=\"color: #0087ff; text-decoration-color: #0087ff\">Embedding</span>)         │ ?                      │   <span style=\"color: #00af00; text-decoration-color: #00af00\">0</span> (unbuilt) │\n",
              "├─────────────────────────────────┼────────────────────────┼───────────────┤\n",
              "│ bidirectional (<span style=\"color: #0087ff; text-decoration-color: #0087ff\">Bidirectional</span>)   │ ?                      │   <span style=\"color: #00af00; text-decoration-color: #00af00\">0</span> (unbuilt) │\n",
              "├─────────────────────────────────┼────────────────────────┼───────────────┤\n",
              "│ global_max_pooling1d            │ ?                      │             <span style=\"color: #00af00; text-decoration-color: #00af00\">0</span> │\n",
              "│ (<span style=\"color: #0087ff; text-decoration-color: #0087ff\">GlobalMaxPooling1D</span>)            │                        │               │\n",
              "├─────────────────────────────────┼────────────────────────┼───────────────┤\n",
              "│ dense_2 (<span style=\"color: #0087ff; text-decoration-color: #0087ff\">Dense</span>)                 │ ?                      │   <span style=\"color: #00af00; text-decoration-color: #00af00\">0</span> (unbuilt) │\n",
              "├─────────────────────────────────┼────────────────────────┼───────────────┤\n",
              "│ dropout_1 (<span style=\"color: #0087ff; text-decoration-color: #0087ff\">Dropout</span>)             │ ?                      │             <span style=\"color: #00af00; text-decoration-color: #00af00\">0</span> │\n",
              "├─────────────────────────────────┼────────────────────────┼───────────────┤\n",
              "│ dense_3 (<span style=\"color: #0087ff; text-decoration-color: #0087ff\">Dense</span>)                 │ ?                      │   <span style=\"color: #00af00; text-decoration-color: #00af00\">0</span> (unbuilt) │\n",
              "└─────────────────────────────────┴────────────────────────┴───────────────┘\n",
              "</pre>\n"
            ]
          },
          "metadata": {}
        },
        {
          "output_type": "display_data",
          "data": {
            "text/plain": [
              "\u001b[1m Total params: \u001b[0m\u001b[38;5;34m0\u001b[0m (0.00 B)\n"
            ],
            "text/html": [
              "<pre style=\"white-space:pre;overflow-x:auto;line-height:normal;font-family:Menlo,'DejaVu Sans Mono',consolas,'Courier New',monospace\"><span style=\"font-weight: bold\"> Total params: </span><span style=\"color: #00af00; text-decoration-color: #00af00\">0</span> (0.00 B)\n",
              "</pre>\n"
            ]
          },
          "metadata": {}
        },
        {
          "output_type": "display_data",
          "data": {
            "text/plain": [
              "\u001b[1m Trainable params: \u001b[0m\u001b[38;5;34m0\u001b[0m (0.00 B)\n"
            ],
            "text/html": [
              "<pre style=\"white-space:pre;overflow-x:auto;line-height:normal;font-family:Menlo,'DejaVu Sans Mono',consolas,'Courier New',monospace\"><span style=\"font-weight: bold\"> Trainable params: </span><span style=\"color: #00af00; text-decoration-color: #00af00\">0</span> (0.00 B)\n",
              "</pre>\n"
            ]
          },
          "metadata": {}
        },
        {
          "output_type": "display_data",
          "data": {
            "text/plain": [
              "\u001b[1m Non-trainable params: \u001b[0m\u001b[38;5;34m0\u001b[0m (0.00 B)\n"
            ],
            "text/html": [
              "<pre style=\"white-space:pre;overflow-x:auto;line-height:normal;font-family:Menlo,'DejaVu Sans Mono',consolas,'Courier New',monospace\"><span style=\"font-weight: bold\"> Non-trainable params: </span><span style=\"color: #00af00; text-decoration-color: #00af00\">0</span> (0.00 B)\n",
              "</pre>\n"
            ]
          },
          "metadata": {}
        },
        {
          "output_type": "stream",
          "name": "stdout",
          "text": [
            "Epoch 1/15\n",
            "\u001b[1m271/271\u001b[0m \u001b[32m━━━━━━━━━━━━━━━━━━━━\u001b[0m\u001b[37m\u001b[0m \u001b[1m44s\u001b[0m 145ms/step - accuracy: 0.5069 - loss: 0.9675 - val_accuracy: 0.7700 - val_loss: 0.5925 - learning_rate: 0.0010\n",
            "Epoch 2/15\n",
            "\u001b[1m271/271\u001b[0m \u001b[32m━━━━━━━━━━━━━━━━━━━━\u001b[0m\u001b[37m\u001b[0m \u001b[1m40s\u001b[0m 143ms/step - accuracy: 0.8184 - loss: 0.4945 - val_accuracy: 0.8545 - val_loss: 0.4150 - learning_rate: 0.0010\n",
            "Epoch 3/15\n",
            "\u001b[1m271/271\u001b[0m \u001b[32m━━━━━━━━━━━━━━━━━━━━\u001b[0m\u001b[37m\u001b[0m \u001b[1m39s\u001b[0m 143ms/step - accuracy: 0.8879 - loss: 0.3359 - val_accuracy: 0.8670 - val_loss: 0.3770 - learning_rate: 0.0010\n",
            "Epoch 4/15\n",
            "\u001b[1m271/271\u001b[0m \u001b[32m━━━━━━━━━━━━━━━━━━━━\u001b[0m\u001b[37m\u001b[0m \u001b[1m42s\u001b[0m 145ms/step - accuracy: 0.9153 - loss: 0.2547 - val_accuracy: 0.8831 - val_loss: 0.3607 - learning_rate: 0.0010\n",
            "Epoch 5/15\n",
            "\u001b[1m271/271\u001b[0m \u001b[32m━━━━━━━━━━━━━━━━━━━━\u001b[0m\u001b[37m\u001b[0m \u001b[1m39s\u001b[0m 144ms/step - accuracy: 0.9332 - loss: 0.2045 - val_accuracy: 0.8778 - val_loss: 0.3672 - learning_rate: 0.0010\n",
            "Epoch 6/15\n",
            "\u001b[1m271/271\u001b[0m \u001b[32m━━━━━━━━━━━━━━━━━━━━\u001b[0m\u001b[37m\u001b[0m \u001b[1m43s\u001b[0m 151ms/step - accuracy: 0.9460 - loss: 0.1695 - val_accuracy: 0.8797 - val_loss: 0.3804 - learning_rate: 0.0010\n",
            "Epoch 7/15\n",
            "\u001b[1m271/271\u001b[0m \u001b[32m━━━━━━━━━━━━━━━━━━━━\u001b[0m\u001b[37m\u001b[0m \u001b[1m39s\u001b[0m 144ms/step - accuracy: 0.9577 - loss: 0.1370 - val_accuracy: 0.8891 - val_loss: 0.3970 - learning_rate: 2.0000e-04\n",
            "\n",
            "--- [SKEMA 3] Melatih Model BiLSTM dengan Dropout lebih banyak ---\n"
          ]
        },
        {
          "output_type": "display_data",
          "data": {
            "text/plain": [
              "\u001b[1mModel: \"sequential_2\"\u001b[0m\n"
            ],
            "text/html": [
              "<pre style=\"white-space:pre;overflow-x:auto;line-height:normal;font-family:Menlo,'DejaVu Sans Mono',consolas,'Courier New',monospace\"><span style=\"font-weight: bold\">Model: \"sequential_2\"</span>\n",
              "</pre>\n"
            ]
          },
          "metadata": {}
        },
        {
          "output_type": "display_data",
          "data": {
            "text/plain": [
              "┏━━━━━━━━━━━━━━━━━━━━━━━━━━━━━━━━━┳━━━━━━━━━━━━━━━━━━━━━━━━┳━━━━━━━━━━━━━━━┓\n",
              "┃\u001b[1m \u001b[0m\u001b[1mLayer (type)                   \u001b[0m\u001b[1m \u001b[0m┃\u001b[1m \u001b[0m\u001b[1mOutput Shape          \u001b[0m\u001b[1m \u001b[0m┃\u001b[1m \u001b[0m\u001b[1m      Param #\u001b[0m\u001b[1m \u001b[0m┃\n",
              "┡━━━━━━━━━━━━━━━━━━━━━━━━━━━━━━━━━╇━━━━━━━━━━━━━━━━━━━━━━━━╇━━━━━━━━━━━━━━━┩\n",
              "│ embedding_2 (\u001b[38;5;33mEmbedding\u001b[0m)         │ ?                      │   \u001b[38;5;34m0\u001b[0m (unbuilt) │\n",
              "├─────────────────────────────────┼────────────────────────┼───────────────┤\n",
              "│ bidirectional_1 (\u001b[38;5;33mBidirectional\u001b[0m) │ ?                      │   \u001b[38;5;34m0\u001b[0m (unbuilt) │\n",
              "├─────────────────────────────────┼────────────────────────┼───────────────┤\n",
              "│ global_max_pooling1d_1          │ ?                      │             \u001b[38;5;34m0\u001b[0m │\n",
              "│ (\u001b[38;5;33mGlobalMaxPooling1D\u001b[0m)            │                        │               │\n",
              "├─────────────────────────────────┼────────────────────────┼───────────────┤\n",
              "│ dense_4 (\u001b[38;5;33mDense\u001b[0m)                 │ ?                      │   \u001b[38;5;34m0\u001b[0m (unbuilt) │\n",
              "├─────────────────────────────────┼────────────────────────┼───────────────┤\n",
              "│ dropout_2 (\u001b[38;5;33mDropout\u001b[0m)             │ ?                      │             \u001b[38;5;34m0\u001b[0m │\n",
              "├─────────────────────────────────┼────────────────────────┼───────────────┤\n",
              "│ dense_5 (\u001b[38;5;33mDense\u001b[0m)                 │ ?                      │   \u001b[38;5;34m0\u001b[0m (unbuilt) │\n",
              "├─────────────────────────────────┼────────────────────────┼───────────────┤\n",
              "│ dropout_3 (\u001b[38;5;33mDropout\u001b[0m)             │ ?                      │             \u001b[38;5;34m0\u001b[0m │\n",
              "├─────────────────────────────────┼────────────────────────┼───────────────┤\n",
              "│ dense_6 (\u001b[38;5;33mDense\u001b[0m)                 │ ?                      │   \u001b[38;5;34m0\u001b[0m (unbuilt) │\n",
              "└─────────────────────────────────┴────────────────────────┴───────────────┘\n"
            ],
            "text/html": [
              "<pre style=\"white-space:pre;overflow-x:auto;line-height:normal;font-family:Menlo,'DejaVu Sans Mono',consolas,'Courier New',monospace\">┏━━━━━━━━━━━━━━━━━━━━━━━━━━━━━━━━━┳━━━━━━━━━━━━━━━━━━━━━━━━┳━━━━━━━━━━━━━━━┓\n",
              "┃<span style=\"font-weight: bold\"> Layer (type)                    </span>┃<span style=\"font-weight: bold\"> Output Shape           </span>┃<span style=\"font-weight: bold\">       Param # </span>┃\n",
              "┡━━━━━━━━━━━━━━━━━━━━━━━━━━━━━━━━━╇━━━━━━━━━━━━━━━━━━━━━━━━╇━━━━━━━━━━━━━━━┩\n",
              "│ embedding_2 (<span style=\"color: #0087ff; text-decoration-color: #0087ff\">Embedding</span>)         │ ?                      │   <span style=\"color: #00af00; text-decoration-color: #00af00\">0</span> (unbuilt) │\n",
              "├─────────────────────────────────┼────────────────────────┼───────────────┤\n",
              "│ bidirectional_1 (<span style=\"color: #0087ff; text-decoration-color: #0087ff\">Bidirectional</span>) │ ?                      │   <span style=\"color: #00af00; text-decoration-color: #00af00\">0</span> (unbuilt) │\n",
              "├─────────────────────────────────┼────────────────────────┼───────────────┤\n",
              "│ global_max_pooling1d_1          │ ?                      │             <span style=\"color: #00af00; text-decoration-color: #00af00\">0</span> │\n",
              "│ (<span style=\"color: #0087ff; text-decoration-color: #0087ff\">GlobalMaxPooling1D</span>)            │                        │               │\n",
              "├─────────────────────────────────┼────────────────────────┼───────────────┤\n",
              "│ dense_4 (<span style=\"color: #0087ff; text-decoration-color: #0087ff\">Dense</span>)                 │ ?                      │   <span style=\"color: #00af00; text-decoration-color: #00af00\">0</span> (unbuilt) │\n",
              "├─────────────────────────────────┼────────────────────────┼───────────────┤\n",
              "│ dropout_2 (<span style=\"color: #0087ff; text-decoration-color: #0087ff\">Dropout</span>)             │ ?                      │             <span style=\"color: #00af00; text-decoration-color: #00af00\">0</span> │\n",
              "├─────────────────────────────────┼────────────────────────┼───────────────┤\n",
              "│ dense_5 (<span style=\"color: #0087ff; text-decoration-color: #0087ff\">Dense</span>)                 │ ?                      │   <span style=\"color: #00af00; text-decoration-color: #00af00\">0</span> (unbuilt) │\n",
              "├─────────────────────────────────┼────────────────────────┼───────────────┤\n",
              "│ dropout_3 (<span style=\"color: #0087ff; text-decoration-color: #0087ff\">Dropout</span>)             │ ?                      │             <span style=\"color: #00af00; text-decoration-color: #00af00\">0</span> │\n",
              "├─────────────────────────────────┼────────────────────────┼───────────────┤\n",
              "│ dense_6 (<span style=\"color: #0087ff; text-decoration-color: #0087ff\">Dense</span>)                 │ ?                      │   <span style=\"color: #00af00; text-decoration-color: #00af00\">0</span> (unbuilt) │\n",
              "└─────────────────────────────────┴────────────────────────┴───────────────┘\n",
              "</pre>\n"
            ]
          },
          "metadata": {}
        },
        {
          "output_type": "display_data",
          "data": {
            "text/plain": [
              "\u001b[1m Total params: \u001b[0m\u001b[38;5;34m0\u001b[0m (0.00 B)\n"
            ],
            "text/html": [
              "<pre style=\"white-space:pre;overflow-x:auto;line-height:normal;font-family:Menlo,'DejaVu Sans Mono',consolas,'Courier New',monospace\"><span style=\"font-weight: bold\"> Total params: </span><span style=\"color: #00af00; text-decoration-color: #00af00\">0</span> (0.00 B)\n",
              "</pre>\n"
            ]
          },
          "metadata": {}
        },
        {
          "output_type": "display_data",
          "data": {
            "text/plain": [
              "\u001b[1m Trainable params: \u001b[0m\u001b[38;5;34m0\u001b[0m (0.00 B)\n"
            ],
            "text/html": [
              "<pre style=\"white-space:pre;overflow-x:auto;line-height:normal;font-family:Menlo,'DejaVu Sans Mono',consolas,'Courier New',monospace\"><span style=\"font-weight: bold\"> Trainable params: </span><span style=\"color: #00af00; text-decoration-color: #00af00\">0</span> (0.00 B)\n",
              "</pre>\n"
            ]
          },
          "metadata": {}
        },
        {
          "output_type": "display_data",
          "data": {
            "text/plain": [
              "\u001b[1m Non-trainable params: \u001b[0m\u001b[38;5;34m0\u001b[0m (0.00 B)\n"
            ],
            "text/html": [
              "<pre style=\"white-space:pre;overflow-x:auto;line-height:normal;font-family:Menlo,'DejaVu Sans Mono',consolas,'Courier New',monospace\"><span style=\"font-weight: bold\"> Non-trainable params: </span><span style=\"color: #00af00; text-decoration-color: #00af00\">0</span> (0.00 B)\n",
              "</pre>\n"
            ]
          },
          "metadata": {}
        },
        {
          "output_type": "stream",
          "name": "stdout",
          "text": [
            "Epoch 1/15\n",
            "\u001b[1m271/271\u001b[0m \u001b[32m━━━━━━━━━━━━━━━━━━━━\u001b[0m\u001b[37m\u001b[0m \u001b[1m109s\u001b[0m 385ms/step - accuracy: 0.4495 - loss: 1.0069 - val_accuracy: 0.5887 - val_loss: 1.0171 - learning_rate: 0.0010\n",
            "Epoch 2/15\n",
            "\u001b[1m271/271\u001b[0m \u001b[32m━━━━━━━━━━━━━━━━━━━━\u001b[0m\u001b[37m\u001b[0m \u001b[1m103s\u001b[0m 381ms/step - accuracy: 0.7056 - loss: 0.7010 - val_accuracy: 0.8321 - val_loss: 0.4595 - learning_rate: 0.0010\n",
            "Epoch 3/15\n",
            "\u001b[1m271/271\u001b[0m \u001b[32m━━━━━━━━━━━━━━━━━━━━\u001b[0m\u001b[37m\u001b[0m \u001b[1m140s\u001b[0m 375ms/step - accuracy: 0.8658 - loss: 0.4000 - val_accuracy: 0.8594 - val_loss: 0.4007 - learning_rate: 0.0010\n",
            "Epoch 4/15\n",
            "\u001b[1m271/271\u001b[0m \u001b[32m━━━━━━━━━━━━━━━━━━━━\u001b[0m\u001b[37m\u001b[0m \u001b[1m143s\u001b[0m 378ms/step - accuracy: 0.9057 - loss: 0.2917 - val_accuracy: 0.8762 - val_loss: 0.3760 - learning_rate: 0.0010\n",
            "Epoch 5/15\n",
            "\u001b[1m271/271\u001b[0m \u001b[32m━━━━━━━━━━━━━━━━━━━━\u001b[0m\u001b[37m\u001b[0m \u001b[1m100s\u001b[0m 367ms/step - accuracy: 0.9259 - loss: 0.2254 - val_accuracy: 0.8797 - val_loss: 0.3935 - learning_rate: 0.0010\n",
            "Epoch 6/15\n",
            "\u001b[1m271/271\u001b[0m \u001b[32m━━━━━━━━━━━━━━━━━━━━\u001b[0m\u001b[37m\u001b[0m \u001b[1m144s\u001b[0m 375ms/step - accuracy: 0.9376 - loss: 0.1850 - val_accuracy: 0.8843 - val_loss: 0.3916 - learning_rate: 0.0010\n",
            "Epoch 7/15\n",
            "\u001b[1m271/271\u001b[0m \u001b[32m━━━━━━━━━━━━━━━━━━━━\u001b[0m\u001b[37m\u001b[0m \u001b[1m140s\u001b[0m 370ms/step - accuracy: 0.9562 - loss: 0.1362 - val_accuracy: 0.8910 - val_loss: 0.4131 - learning_rate: 2.0000e-04\n"
          ]
        }
      ]
    },
    {
      "cell_type": "markdown",
      "source": [
        "# CELL 9: EVALUASI MODEL"
      ],
      "metadata": {
        "id": "KClSSejYHu-5"
      }
    },
    {
      "cell_type": "code",
      "source": [
        "if 'histories' in locals():\n",
        "    print(\"\\n📈 EVALUASI PERFORMA MODEL\")\n",
        "\n",
        "    # Cari model terbaik berdasarkan validation accuracy\n",
        "    best_model_name = ''\n",
        "    best_val_accuracy = 0\n",
        "\n",
        "    results = {}\n",
        "\n",
        "    models = {\n",
        "        \"LSTM\": model_lstm,\n",
        "        \"BiLSTM\": model_bilstm,\n",
        "        \"BiLSTM_v2\": model_bilstm_v2\n",
        "    }\n",
        "\n",
        "    for name, history in histories.items():\n",
        "        val_acc = max(history.history['val_accuracy'])\n",
        "        train_acc = max(history.history['accuracy'])\n",
        "        results[name] = {'train_acc': train_acc, 'val_acc': val_acc}\n",
        "        if val_acc > best_val_accuracy:\n",
        "            best_val_accuracy = val_acc\n",
        "            best_model_name = name\n",
        "\n",
        "    print(\"\\n--- Hasil Akurasi Setiap Skema ---\")\n",
        "    for name, accs in results.items():\n",
        "        print(f\"  - Model {name}:\")\n",
        "        print(f\"    - Akurasi Training: {accs['train_acc']:.2%}\")\n",
        "        print(f\"    - Akurasi Testing (Validation): {accs['val_acc']:.2%}\")\n",
        "        # Validasi Kriteria Dicoding\n",
        "        if accs['train_acc'] > 0.92 and accs['val_acc'] > 0.92:\n",
        "            print(\"    - ✅ Memenuhi kriteria > 92%\")\n",
        "        elif accs['val_acc'] > 0.85:\n",
        "            print(\"    - ✅ Memenuhi kriteria > 85%\")\n",
        "        else:\n",
        "            print(\"    - ❌ Tidak memenuhi kriteria minimal\")\n",
        "\n",
        "    print(f\"\\n🏆 Model terbaik adalah: {best_model_name} dengan akurasi validasi {best_val_accuracy:.2%}\")\n",
        "    best_model = models[best_model_name]\n",
        "\n",
        "    # Plotting history model terbaik\n",
        "    best_history = histories[best_model_name]\n",
        "    plt.figure(figsize=(12, 5))\n",
        "\n",
        "    # Plot Akurasi\n",
        "    plt.subplot(1, 2, 1)\n",
        "    plt.plot(best_history.history['accuracy'], label='Akurasi Training')\n",
        "    plt.plot(best_history.history['val_accuracy'], label='Akurasi Validation')\n",
        "    plt.title(f'Grafik Akurasi Model {best_model_name}')\n",
        "    plt.xlabel('Epoch')\n",
        "    plt.ylabel('Akurasi')\n",
        "    plt.legend()\n",
        "\n",
        "    # Plot Loss\n",
        "    plt.subplot(1, 2, 2)\n",
        "    plt.plot(best_history.history['loss'], label='Loss Training')\n",
        "    plt.plot(best_history.history['val_loss'], label='Loss Validation')\n",
        "    plt.title(f'Grafik Loss Model {best_model_name}')\n",
        "    plt.xlabel('Epoch')\n",
        "    plt.ylabel('Loss')\n",
        "    plt.legend()\n",
        "\n",
        "    plt.tight_layout()\n",
        "    plt.show()\n"
      ],
      "metadata": {
        "colab": {
          "base_uri": "https://localhost:8080/",
          "height": 678
        },
        "id": "t9Wyq8_XHvhA",
        "outputId": "25d63805-0fd8-45d5-9e51-6e35ac495f5a"
      },
      "execution_count": null,
      "outputs": [
        {
          "output_type": "stream",
          "name": "stdout",
          "text": [
            "\n",
            "📈 EVALUASI PERFORMA MODEL\n",
            "\n",
            "--- Hasil Akurasi Setiap Skema ---\n",
            "  - Model LSTM:\n",
            "    - Akurasi Training: 33.34%\n",
            "    - Akurasi Testing (Validation): 33.35%\n",
            "    - ❌ Tidak memenuhi kriteria minimal\n",
            "  - Model BiLSTM:\n",
            "    - Akurasi Training: 95.89%\n",
            "    - Akurasi Testing (Validation): 88.91%\n",
            "    - ✅ Memenuhi kriteria > 85%\n",
            "  - Model BiLSTM_v2:\n",
            "    - Akurasi Training: 95.55%\n",
            "    - Akurasi Testing (Validation): 89.10%\n",
            "    - ✅ Memenuhi kriteria > 85%\n",
            "\n",
            "🏆 Model terbaik adalah: BiLSTM_v2 dengan akurasi validasi 89.10%\n"
          ]
        },
        {
          "output_type": "display_data",
          "data": {
            "text/plain": [
              "<Figure size 1200x500 with 2 Axes>"
            ],
            "image/png": "[encoded data removed]"
          },
          "metadata": {}
        }
      ]
    },
    {
      "cell_type": "markdown",
      "source": [
        "# CELL 10: INFERENCE (PENGUJIAN DENGAN TEKS BARU)"
      ],
      "metadata": {
        "id": "bhdaQZ_xHxwT"
      }
    },
    {
      "cell_type": "code",
      "source": [
        "if 'best_model' in locals():\n",
        "    print(\"\\n🧪 INFERENCE - MENGUJI MODEL DENGAN KALIMAT BARU\")\n",
        "\n",
        "    def predict_sentiment(text):\n",
        "        # Preprocessing teks input\n",
        "        processed_text = advanced_preprocess(text)\n",
        "\n",
        "        # Konversi ke sekuens\n",
        "        sequence = tokenizer.texts_to_sequences([processed_text])\n",
        "\n",
        "        # Padding\n",
        "        padded = pad_sequences(sequence, maxlen=max_length, padding='post', truncating='post')\n",
        "\n",
        "        # Prediksi\n",
        "        prediction = best_model.predict(padded)\n",
        "        predicted_class_index = np.argmax(prediction)\n",
        "\n",
        "        # Konversi indeks ke label sentimen\n",
        "        predicted_sentiment = encoder.inverse_transform([predicted_class_index])[0]\n",
        "\n",
        "        return predicted_sentiment, prediction[0][predicted_class_index]\n",
        "\n",
        "    # Contoh kalimat untuk diuji\n",
        "    test_sentences = [\n",
        "        \"Aplikasi ini luar biasa, sangat membantu pekerjaan saya sehari-hari!\",\n",
        "        \"Sering banget error dan keluar sendiri, tolong segera diperbaiki developernya.\",\n",
        "        \"Lumayan sih, fiturnya cukup tapi kadang masih suka lemot.\",\n",
        "        \"Keren, desainnya bagus dan mudah digunakan.\",\n",
        "        \"Kecewa berat, setelah update malah jadi banyak bug.\"\n",
        "    ]\n",
        "\n",
        "    for sentence in test_sentences:\n",
        "        sentiment, confidence = predict_sentiment(sentence)\n",
        "        print(f\"\\nInput     : \\\"{sentence}\\\"\")\n",
        "        print(f\"Prediksi  : {sentiment.upper()} (Confidence: {confidence:.2%})\")"
      ],
      "metadata": {
        "colab": {
          "base_uri": "https://localhost:8080/"
        },
        "id": "xp7dDoJyHzOv",
        "outputId": "c30bd11d-91cc-416e-f248-a5aa5d6189a2"
      },
      "execution_count": null,
      "outputs": [
        {
          "output_type": "stream",
          "name": "stdout",
          "text": [
            "\n",
            "🧪 INFERENCE - MENGUJI MODEL DENGAN KALIMAT BARU\n",
            "\u001b[1m1/1\u001b[0m \u001b[32m━━━━━━━━━━━━━━━━━━━━\u001b[0m\u001b[37m\u001b[0m \u001b[1m0s\u001b[0m 375ms/step\n",
            "\n",
            "Input     : \"Aplikasi ini luar biasa, sangat membantu pekerjaan saya sehari-hari!\"\n",
            "Prediksi  : POSITIF (Confidence: 95.50%)\n",
            "\u001b[1m1/1\u001b[0m \u001b[32m━━━━━━━━━━━━━━━━━━━━\u001b[0m\u001b[37m\u001b[0m \u001b[1m0s\u001b[0m 54ms/step\n",
            "\n",
            "Input     : \"Sering banget error dan keluar sendiri, tolong segera diperbaiki developernya.\"\n",
            "Prediksi  : NETRAL (Confidence: 97.84%)\n",
            "\u001b[1m1/1\u001b[0m \u001b[32m━━━━━━━━━━━━━━━━━━━━\u001b[0m\u001b[37m\u001b[0m \u001b[1m0s\u001b[0m 55ms/step\n",
            "\n",
            "Input     : \"Lumayan sih, fiturnya cukup tapi kadang masih suka lemot.\"\n",
            "Prediksi  : NETRAL (Confidence: 52.87%)\n",
            "\u001b[1m1/1\u001b[0m \u001b[32m━━━━━━━━━━━━━━━━━━━━\u001b[0m\u001b[37m\u001b[0m \u001b[1m0s\u001b[0m 64ms/step\n",
            "\n",
            "Input     : \"Keren, desainnya bagus dan mudah digunakan.\"\n",
            "Prediksi  : POSITIF (Confidence: 99.19%)\n",
            "\u001b[1m1/1\u001b[0m \u001b[32m━━━━━━━━━━━━━━━━━━━━\u001b[0m\u001b[37m\u001b[0m \u001b[1m0s\u001b[0m 55ms/step\n",
            "\n",
            "Input     : \"Kecewa berat, setelah update malah jadi banyak bug.\"\n",
            "Prediksi  : NEGATIF (Confidence: 89.22%)\n"
          ]
        }
      ]
    },
    {
      "cell_type": "code",
      "source": [
        "!pip freeze > requirements.txt"
      ],
      "metadata": {
        "id": "-QWLr-hnO4Ro"
      },
      "execution_count": null,
      "outputs": []
    }
  ]
}