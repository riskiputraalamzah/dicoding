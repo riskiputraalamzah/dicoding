{
  "nbformat": 4,
  "nbformat_minor": 0,
  "metadata": {
    "colab": {
      "provenance": []
    },
    "kernelspec": {
      "name": "python3",
      "display_name": "Python 3"
    },
    "language_info": {
      "name": "python"
    }
  },
  "cells": [
    {
      "cell_type": "markdown",
      "source": [
        "# CELL 1: INSTALASI DAN IMPORT LIBRARY"
      ],
      "metadata": {
        "id": "Mg8DSKLAGhx9"
      }
    },
    {
      "cell_type": "code",
      "source": [
        "!pip install nltk scikit-learn wordcloud gensim seaborn matplotlib tensorflow numpy pandas\n",
        "\n",
        "import pandas as pd\n",
        "import numpy as np\n",
        "import matplotlib.pyplot as plt\n",
        "import seaborn as sns\n",
        "import warnings\n",
        "import re\n",
        "import string\n",
        "import time\n",
        "import joblib\n",
        "from datetime import datetime\n",
        "\n",
        "# Text processing\n",
        "import nltk\n",
        "from nltk.corpus import stopwords\n",
        "from nltk.tokenize import word_tokenize\n",
        "nltk.download('punkt', quiet=True)\n",
        "nltk.download('punkt_tab', quiet=True)\n",
        "nltk.download('stopwords', quiet=True)\n",
        "\n",
        "# Machine Learning & Deep Learning\n",
        "from sklearn.model_selection import train_test_split\n",
        "from sklearn.preprocessing import LabelEncoder\n",
        "from imblearn.over_sampling import RandomOverSampler\n",
        "import tensorflow as tf\n",
        "from tensorflow.keras.preprocessing.text import Tokenizer\n",
        "from tensorflow.keras.preprocessing.sequence import pad_sequences\n",
        "from tensorflow.keras.models import Sequential\n",
        "from tensorflow.keras.layers import Embedding, LSTM, Bidirectional, Dense, Dropout, GlobalMaxPooling1D\n",
        "from tensorflow.keras.callbacks import EarlyStopping, ReduceLROnPlateau\n",
        "\n",
        "warnings.filterwarnings('ignore')\n",
        "print(\"✅ Library berhasil diimport dan di-setup!\")\n",
        "print(f\"✅ TensorFlow version: {tf.__version__}\")"
      ],
      "metadata": {
        "colab": {
          "base_uri": "https://localhost:8080/"
        },
        "id": "APqCEe0zGilS",
        "outputId": "ad4108ae-7248-428c-afac-1835a2928836"
      },
      "execution_count": 12,
      "outputs": [
        {
          "output_type": "stream",
          "name": "stdout",
          "text": [
            "Requirement already satisfied: nltk in /usr/local/lib/python3.12/dist-packages (3.9.1)\n",
            "Requirement already satisfied: scikit-learn in /usr/local/lib/python3.12/dist-packages (1.6.1)\n",
            "Requirement already satisfied: wordcloud in /usr/local/lib/python3.12/dist-packages (1.9.4)\n",
            "Requirement already satisfied: gensim in /usr/local/lib/python3.12/dist-packages (4.3.3)\n",
            "Requirement already satisfied: seaborn in /usr/local/lib/python3.12/dist-packages (0.13.2)\n",
            "Requirement already satisfied: matplotlib in /usr/local/lib/python3.12/dist-packages (3.10.0)\n",
            "Requirement already satisfied: tensorflow in /usr/local/lib/python3.12/dist-packages (2.19.0)\n",
            "Requirement already satisfied: numpy in /usr/local/lib/python3.12/dist-packages (1.26.4)\n",
            "Requirement already satisfied: pandas in /usr/local/lib/python3.12/dist-packages (2.2.2)\n",
            "Requirement already satisfied: click in /usr/local/lib/python3.12/dist-packages (from nltk) (8.2.1)\n",
            "Requirement already satisfied: joblib in /usr/local/lib/python3.12/dist-packages (from nltk) (1.5.1)\n",
            "Requirement already satisfied: regex>=2021.8.3 in /usr/local/lib/python3.12/dist-packages (from nltk) (2024.11.6)\n",
            "Requirement already satisfied: tqdm in /usr/local/lib/python3.12/dist-packages (from nltk) (4.67.1)\n",
            "Requirement already satisfied: scipy>=1.6.0 in /usr/local/lib/python3.12/dist-packages (from scikit-learn) (1.13.1)\n",
            "Requirement already satisfied: threadpoolctl>=3.1.0 in /usr/local/lib/python3.12/dist-packages (from scikit-learn) (3.6.0)\n",
            "Requirement already satisfied: pillow in /usr/local/lib/python3.12/dist-packages (from wordcloud) (11.3.0)\n",
            "Requirement already satisfied: smart-open>=1.8.1 in /usr/local/lib/python3.12/dist-packages (from gensim) (7.3.0.post1)\n",
            "Requirement already satisfied: contourpy>=1.0.1 in /usr/local/lib/python3.12/dist-packages (from matplotlib) (1.3.3)\n",
            "Requirement already satisfied: cycler>=0.10 in /usr/local/lib/python3.12/dist-packages (from matplotlib) (0.12.1)\n",
            "Requirement already satisfied: fonttools>=4.22.0 in /usr/local/lib/python3.12/dist-packages (from matplotlib) (4.59.1)\n",
            "Requirement already satisfied: kiwisolver>=1.3.1 in /usr/local/lib/python3.12/dist-packages (from matplotlib) (1.4.9)\n",
            "Requirement already satisfied: packaging>=20.0 in /usr/local/lib/python3.12/dist-packages (from matplotlib) (25.0)\n",
            "Requirement already satisfied: pyparsing>=2.3.1 in /usr/local/lib/python3.12/dist-packages (from matplotlib) (3.2.3)\n",
            "Requirement already satisfied: python-dateutil>=2.7 in /usr/local/lib/python3.12/dist-packages (from matplotlib) (2.9.0.post0)\n",
            "Requirement already satisfied: absl-py>=1.0.0 in /usr/local/lib/python3.12/dist-packages (from tensorflow) (1.4.0)\n",
            "Requirement already satisfied: astunparse>=1.6.0 in /usr/local/lib/python3.12/dist-packages (from tensorflow) (1.6.3)\n",
            "Requirement already satisfied: flatbuffers>=24.3.25 in /usr/local/lib/python3.12/dist-packages (from tensorflow) (25.2.10)\n",
            "Requirement already satisfied: gast!=0.5.0,!=0.5.1,!=0.5.2,>=0.2.1 in /usr/local/lib/python3.12/dist-packages (from tensorflow) (0.6.0)\n",
            "Requirement already satisfied: google-pasta>=0.1.1 in /usr/local/lib/python3.12/dist-packages (from tensorflow) (0.2.0)\n",
            "Requirement already satisfied: libclang>=13.0.0 in /usr/local/lib/python3.12/dist-packages (from tensorflow) (18.1.1)\n",
            "Requirement already satisfied: opt-einsum>=2.3.2 in /usr/local/lib/python3.12/dist-packages (from tensorflow) (3.4.0)\n",
            "Requirement already satisfied: protobuf!=4.21.0,!=4.21.1,!=4.21.2,!=4.21.3,!=4.21.4,!=4.21.5,<6.0.0dev,>=3.20.3 in /usr/local/lib/python3.12/dist-packages (from tensorflow) (5.29.5)\n",
            "Requirement already satisfied: requests<3,>=2.21.0 in /usr/local/lib/python3.12/dist-packages (from tensorflow) (2.32.4)\n",
            "Requirement already satisfied: setuptools in /usr/local/lib/python3.12/dist-packages (from tensorflow) (75.2.0)\n",
            "Requirement already satisfied: six>=1.12.0 in /usr/local/lib/python3.12/dist-packages (from tensorflow) (1.17.0)\n",
            "Requirement already satisfied: termcolor>=1.1.0 in /usr/local/lib/python3.12/dist-packages (from tensorflow) (3.1.0)\n",
            "Requirement already satisfied: typing-extensions>=3.6.6 in /usr/local/lib/python3.12/dist-packages (from tensorflow) (4.15.0)\n",
            "Requirement already satisfied: wrapt>=1.11.0 in /usr/local/lib/python3.12/dist-packages (from tensorflow) (1.17.3)\n",
            "Requirement already satisfied: grpcio<2.0,>=1.24.3 in /usr/local/lib/python3.12/dist-packages (from tensorflow) (1.74.0)\n",
            "Requirement already satisfied: tensorboard~=2.19.0 in /usr/local/lib/python3.12/dist-packages (from tensorflow) (2.19.0)\n",
            "Requirement already satisfied: keras>=3.5.0 in /usr/local/lib/python3.12/dist-packages (from tensorflow) (3.10.0)\n",
            "Requirement already satisfied: h5py>=3.11.0 in /usr/local/lib/python3.12/dist-packages (from tensorflow) (3.14.0)\n",
            "Requirement already satisfied: ml-dtypes<1.0.0,>=0.5.1 in /usr/local/lib/python3.12/dist-packages (from tensorflow) (0.5.3)\n",
            "Requirement already satisfied: pytz>=2020.1 in /usr/local/lib/python3.12/dist-packages (from pandas) (2025.2)\n",
            "Requirement already satisfied: tzdata>=2022.7 in /usr/local/lib/python3.12/dist-packages (from pandas) (2025.2)\n",
            "Requirement already satisfied: wheel<1.0,>=0.23.0 in /usr/local/lib/python3.12/dist-packages (from astunparse>=1.6.0->tensorflow) (0.45.1)\n",
            "Requirement already satisfied: rich in /usr/local/lib/python3.12/dist-packages (from keras>=3.5.0->tensorflow) (13.9.4)\n",
            "Requirement already satisfied: namex in /usr/local/lib/python3.12/dist-packages (from keras>=3.5.0->tensorflow) (0.1.0)\n",
            "Requirement already satisfied: optree in /usr/local/lib/python3.12/dist-packages (from keras>=3.5.0->tensorflow) (0.17.0)\n",
            "Requirement already satisfied: charset_normalizer<4,>=2 in /usr/local/lib/python3.12/dist-packages (from requests<3,>=2.21.0->tensorflow) (3.4.3)\n",
            "Requirement already satisfied: idna<4,>=2.5 in /usr/local/lib/python3.12/dist-packages (from requests<3,>=2.21.0->tensorflow) (3.10)\n",
            "Requirement already satisfied: urllib3<3,>=1.21.1 in /usr/local/lib/python3.12/dist-packages (from requests<3,>=2.21.0->tensorflow) (2.5.0)\n",
            "Requirement already satisfied: certifi>=2017.4.17 in /usr/local/lib/python3.12/dist-packages (from requests<3,>=2.21.0->tensorflow) (2025.8.3)\n",
            "Requirement already satisfied: markdown>=2.6.8 in /usr/local/lib/python3.12/dist-packages (from tensorboard~=2.19.0->tensorflow) (3.8.2)\n",
            "Requirement already satisfied: tensorboard-data-server<0.8.0,>=0.7.0 in /usr/local/lib/python3.12/dist-packages (from tensorboard~=2.19.0->tensorflow) (0.7.2)\n",
            "Requirement already satisfied: werkzeug>=1.0.1 in /usr/local/lib/python3.12/dist-packages (from tensorboard~=2.19.0->tensorflow) (3.1.3)\n",
            "Requirement already satisfied: MarkupSafe>=2.1.1 in /usr/local/lib/python3.12/dist-packages (from werkzeug>=1.0.1->tensorboard~=2.19.0->tensorflow) (3.0.2)\n",
            "Requirement already satisfied: markdown-it-py>=2.2.0 in /usr/local/lib/python3.12/dist-packages (from rich->keras>=3.5.0->tensorflow) (4.0.0)\n",
            "Requirement already satisfied: pygments<3.0.0,>=2.13.0 in /usr/local/lib/python3.12/dist-packages (from rich->keras>=3.5.0->tensorflow) (2.19.2)\n",
            "Requirement already satisfied: mdurl~=0.1 in /usr/local/lib/python3.12/dist-packages (from markdown-it-py>=2.2.0->rich->keras>=3.5.0->tensorflow) (0.1.2)\n",
            "✅ Library berhasil diimport dan di-setup!\n",
            "✅ TensorFlow version: 2.19.0\n"
          ]
        }
      ]
    },
    {
      "cell_type": "markdown",
      "source": [
        "# CELL 2: MEMUAT DATASET"
      ],
      "metadata": {
        "id": "UAKvAbeZGwyl"
      }
    },
    {
      "cell_type": "code",
      "source": [
        "# --- PENTING ---\n",
        "# Pastikan file CSV dari notebook scraping Anda sudah di-upload ke environment Colab.\n",
        "# Ganti nama file di bawah ini jika berbeda.\n",
        "DATASET_FILE = 'gps_reviews_dataset_20250904_034801.csv'\n",
        "\n",
        "try:\n",
        "    df = pd.read_csv(DATASET_FILE)\n",
        "    print(f\"✅ Dataset '{DATASET_FILE}' berhasil dimuat!\")\n",
        "    print(f\"   - Jumlah data awal: {len(df):,} baris\")\n",
        "    print(f\"   - Kolom: {list(df.columns)}\")\n",
        "except FileNotFoundError:\n",
        "    print(f\"❌ ERROR: File '{DATASET_FILE}' tidak ditemukan!\")\n",
        "    print(\"   - Harap upload file CSV hasil scraping Anda dan sesuaikan nama filenya.\")\n",
        "    df = pd.DataFrame() # Buat dataframe kosong agar tidak error di cell berikutnya"
      ],
      "metadata": {
        "colab": {
          "base_uri": "https://localhost:8080/"
        },
        "id": "1w49B1t4GxMK",
        "outputId": "78551cc7-bc58-48d5-f9e3-0c1e7cbe8378"
      },
      "execution_count": 13,
      "outputs": [
        {
          "output_type": "stream",
          "name": "stdout",
          "text": [
            "✅ Dataset 'gps_reviews_dataset_20250904_034801.csv' berhasil dimuat!\n",
            "   - Jumlah data awal: 14,308 baris\n",
            "   - Kolom: ['app_id', 'app_name', 'review_id', 'user_name', 'content', 'score', 'thumbs_up_count', 'at', 'sentiment']\n"
          ]
        }
      ]
    },
    {
      "cell_type": "markdown",
      "source": [
        "# CELL 3: EKSPLORASI DATA AWAL (EDA)"
      ],
      "metadata": {
        "id": "ADPki21xG9Ms"
      }
    },
    {
      "cell_type": "code",
      "source": [
        "if not df.empty:\n",
        "    print(\"\\n🔍 ANALISIS EKSPLORASI DATA AWAL (EDA)\")\n",
        "\n",
        "    # Visualisasi Distribusi Sentimen Awal\n",
        "    plt.figure(figsize=(12, 5))\n",
        "    plt.subplot(1, 2, 1)\n",
        "    sns.countplot(x='sentiment', data=df, order=['positif', 'negatif', 'netral'])\n",
        "    plt.title('Distribusi Sentimen Awal')\n",
        "    plt.xlabel('Sentimen')\n",
        "    plt.ylabel('Jumlah')\n",
        "\n",
        "    # Visualisasi Distribusi Rating\n",
        "    plt.subplot(1, 2, 2)\n",
        "    sns.countplot(x='score', data=df, order=[1, 2, 3, 4, 5])\n",
        "    plt.title('Distribusi Rating Bintang Awal')\n",
        "    plt.xlabel('Rating')\n",
        "    plt.ylabel('Jumlah')\n",
        "    plt.tight_layout()\n",
        "    plt.show()\n"
      ],
      "metadata": {
        "id": "DbDfB9g5G905",
        "colab": {
          "base_uri": "https://localhost:8080/",
          "height": 358
        },
        "outputId": "8f2d6223-85d0-4574-965b-2527f37ad7f5"
      },
      "execution_count": 14,
      "outputs": [
        {
          "output_type": "stream",
          "name": "stdout",
          "text": [
            "\n",
            "🔍 ANALISIS EKSPLORASI DATA AWAL (EDA)\n"
          ]
        },
        {
          "output_type": "display_data",
          "data": {
            "text/plain": [
              "<Figure size 1200x500 with 2 Axes>"
            ],
            "image/png": "[encoded data removed]"
          },
          "metadata": {}
        }
      ]
    },
    {
      "cell_type": "markdown",
      "source": [
        "# CELL 4: TEXT PREPROCESSING"
      ],
      "metadata": {
        "id": "sDzwCcDzHB6Q"
      }
    },
    {
      "cell_type": "code",
      "source": [
        "if not df.empty:\n",
        "    print(\"\\n🧹 PROSES PEMBERSIHAN TEKS (PREPROCESSING)\")\n",
        "\n",
        "    # Setup stopwords (Indonesian + English) - sama seperti di notebook Anda\n",
        "    indonesian_stopwords = set(['yang', 'dan', 'di', 'ke', 'dari', 'dalam', 'untuk', 'pada', 'dengan', 'oleh', 'adalah', 'akan', 'telah', 'sudah', 'masih', 'dapat', 'bisa', 'harus', 'belum', 'ini', 'itu', 'tersebut', 'seperti', 'antara', 'karena', 'sehingga', 'tetapi', 'atau', 'jika', 'maka', 'agar', 'supaya', 'bahwa', 'dimana', 'ketika', 'saat', 'saya', 'anda', 'kamu', 'dia', 'mereka', 'kita', 'kami', 'kalian', 'tidak', 'bukan', 'jangan', 'tanpa', 'kecuali', 'selain', 'sangat', 'lebih', 'paling', 'cukup', 'agak', 'sedikit', 'banyak', 'app', 'aplikasi', 'google', 'play', 'store', 'android', 'ios'])\n",
        "    english_stopwords = set(stopwords.words('english'))\n",
        "    all_stopwords = indonesian_stopwords.union(english_stopwords)\n",
        "\n",
        "    def advanced_preprocess(text):\n",
        "        if pd.isna(text): return \"\"\n",
        "        text = str(text).lower()\n",
        "        text = re.sub(r'http\\S+|www\\S+|https\\S+', '', text, flags=re.MULTILINE)\n",
        "        text = re.sub(r'\\S+@\\S+', '', text)\n",
        "        text = re.sub(r'@\\w+|#\\w+', '', text)\n",
        "        text = re.sub(r'\\d+', '', text)\n",
        "        text = re.sub(r'[^\\w\\s]', ' ', text) # Hapus tanda baca\n",
        "        text = re.sub(r'\\s+', ' ', text).strip()\n",
        "        tokens = word_tokenize(text)\n",
        "        filtered_tokens = [token for token in tokens if token.lower() not in all_stopwords and len(token) > 2]\n",
        "        return ' '.join(filtered_tokens)\n",
        "\n",
        "    # Terapkan preprocessing\n",
        "    print(\"   - Menerapkan fungsi preprocessing pada kolom 'content'...\")\n",
        "    df['processed_content'] = df['content'].apply(advanced_preprocess)\n",
        "\n",
        "    # Hapus baris yang kontennya kosong setelah diproses\n",
        "    initial_len = len(df)\n",
        "    df.dropna(subset=['processed_content'], inplace=True)\n",
        "    df = df[df['processed_content'].str.len() > 5]\n",
        "    final_len = len(df)\n",
        "\n",
        "    print(f\"   - Preprocessing selesai. Data tersisa: {final_len:,} (dihapus {initial_len - final_len:,})\")\n",
        "    print(\"\\n   - Contoh hasil:\")\n",
        "    print(f\"     Original : \\\"{df['content'].iloc[10]}\\\"\")\n",
        "    print(f\"     Processed: \\\"{df['processed_content'].iloc[10]}\\\"\")"
      ],
      "metadata": {
        "id": "pa5Z4W1oHCVE",
        "colab": {
          "base_uri": "https://localhost:8080/"
        },
        "outputId": "793b557b-193a-4ac7-92a8-e3e95f9e28bd"
      },
      "execution_count": 15,
      "outputs": [
        {
          "output_type": "stream",
          "name": "stdout",
          "text": [
            "\n",
            "🧹 PROSES PEMBERSIHAN TEKS (PREPROCESSING)\n",
            "   - Menerapkan fungsi preprocessing pada kolom 'content'...\n",
            "   - Preprocessing selesai. Data tersisa: 14,053 (dihapus 255)\n",
            "\n",
            "   - Contoh hasil:\n",
            "     Original : \"oke banget\"\n",
            "     Processed: \"oke banget\"\n"
          ]
        }
      ]
    },
    {
      "cell_type": "markdown",
      "source": [
        "# CELL 5: PENANGANAN CLASS IMBALANCE"
      ],
      "metadata": {
        "id": "TB2jdEC8HYDR"
      }
    },
    {
      "cell_type": "code",
      "source": [
        "if not df.empty:\n",
        "    print(\"\\n⚖️ PENANGANAN CLASS IMBALANCE\")\n",
        "\n",
        "    ros = RandomOverSampler(random_state=42)\n",
        "    X_resampled, y_resampled = ros.fit_resample(df[['processed_content']], df['sentiment'])\n",
        "\n",
        "    df_balanced = pd.DataFrame(X_resampled, columns=['processed_content'])\n",
        "    df_balanced['sentiment'] = y_resampled\n",
        "\n",
        "    print(\"   - Distribusi sebelum oversampling:\")\n",
        "    print(df['sentiment'].value_counts())\n",
        "    print(\"\\n   - Distribusi setelah oversampling:\")\n",
        "    print(df_balanced['sentiment'].value_counts())\n",
        "\n",
        "    # Visualisasi setelah balancing\n",
        "    plt.figure(figsize=(6, 4))\n",
        "    sns.countplot(x='sentiment', data=df_balanced, order=['positif', 'negatif', 'netral'])\n",
        "    plt.title('Distribusi Sentimen Setelah Oversampling')\n",
        "    plt.show()"
      ],
      "metadata": {
        "id": "X9I7abzEHZ-E",
        "colab": {
          "base_uri": "https://localhost:8080/",
          "height": 679
        },
        "outputId": "a7287263-678e-4e21-c231-96a88a4a37f3"
      },
      "execution_count": 16,
      "outputs": [
        {
          "output_type": "stream",
          "name": "stdout",
          "text": [
            "\n",
            "⚖️ PENANGANAN CLASS IMBALANCE\n",
            "   - Distribusi sebelum oversampling:\n",
            "sentiment\n",
            "positif    7216\n",
            "negatif    5946\n",
            "netral      891\n",
            "Name: count, dtype: int64\n",
            "\n",
            "   - Distribusi setelah oversampling:\n",
            "sentiment\n",
            "negatif    7216\n",
            "positif    7216\n",
            "netral     7216\n",
            "Name: count, dtype: int64\n"
          ]
        },
        {
          "output_type": "display_data",
          "data": {
            "text/plain": [
              "<Figure size 600x400 with 1 Axes>"
            ],
            "image/png": "[encoded data removed]"
          },
          "metadata": {}
        }
      ]
    },
    {
      "cell_type": "markdown",
      "source": [
        "# CELL 6: FEATURE EXTRACTION (TOKENIZATION & PADDING)"
      ],
      "metadata": {
        "id": "G7cTVG_DHdev"
      }
    },
    {
      "cell_type": "code",
      "source": [
        "if 'df_balanced' in locals():\n",
        "    print(\"\\n🔡 FEATURE EXTRACTION UNTUK DEEP LEARNING\")\n",
        "\n",
        "    # Pisahkan fitur dan label\n",
        "    texts = df_balanced['processed_content'].values\n",
        "    labels = df_balanced['sentiment'].values\n",
        "\n",
        "    # Label Encoding\n",
        "    encoder = LabelEncoder()\n",
        "    labels_encoded = encoder.fit_transform(labels)\n",
        "\n",
        "    # Tokenisasi\n",
        "    vocab_size = 10000\n",
        "    oov_tok = \"<OOV>\"\n",
        "    tokenizer = Tokenizer(num_words=vocab_size, oov_token=oov_tok)\n",
        "    tokenizer.fit_on_texts(texts)\n",
        "\n",
        "    # Konversi teks ke sekuens angka\n",
        "    sequences = tokenizer.texts_to_sequences(texts)\n",
        "\n",
        "    # Padding\n",
        "    max_length = 100 # Panjang maksimum sekuens\n",
        "    padded_sequences = pad_sequences(sequences, maxlen=max_length, padding='post', truncating='post')\n",
        "\n",
        "    print(f\"   - Ukuran vocabulary: {len(tokenizer.word_index)}\")\n",
        "    print(f\"   - Bentuk data padded: {padded_sequences.shape}\")\n",
        "    print(f\"   - Bentuk data label: {labels_encoded.shape}\")"
      ],
      "metadata": {
        "id": "lHgsc3V_HeLU",
        "colab": {
          "base_uri": "https://localhost:8080/"
        },
        "outputId": "58e2d5f5-54aa-4ed4-b28b-1ea9d08aa0dd"
      },
      "execution_count": 17,
      "outputs": [
        {
          "output_type": "stream",
          "name": "stdout",
          "text": [
            "\n",
            "🔡 FEATURE EXTRACTION UNTUK DEEP LEARNING\n",
            "   - Ukuran vocabulary: 14361\n",
            "   - Bentuk data padded: (21648, 100)\n",
            "   - Bentuk data label: (21648,)\n"
          ]
        }
      ]
    },
    {
      "cell_type": "markdown",
      "source": [
        "# CELL 7: DATA SPLITTING UNTUK MODEL\n"
      ],
      "metadata": {
        "id": "YAivc1DgHiqg"
      }
    },
    {
      "cell_type": "code",
      "source": [
        "# ==================================================================================\n",
        "# CELL 7 (PERBAIKAN): DATA SPLITTING (TRAIN, VALIDATION, TEST)\n",
        "# ==================================================================================\n",
        "if 'padded_sequences' in locals():\n",
        "    print(\"\\n✂️ PEMBAGIAN DATA MENJADI TRAIN, VALIDATION, & TEST SET\")\n",
        "\n",
        "    # Target: 80% Train, 10% Validation, 10% Test\n",
        "\n",
        "    # Langkah 1: Pisahkan data menjadi 80% untuk data latih dan 20% untuk sementara (temp)\n",
        "    X_train, X_temp, y_train, y_temp = train_test_split(\n",
        "        padded_sequences,\n",
        "        labels_encoded,\n",
        "        test_size=0.2, # 20% dari data akan menjadi validation + test\n",
        "        random_state=42,\n",
        "        stratify=labels_encoded\n",
        "    )\n",
        "\n",
        "    # Langkah 2: Pisahkan data sementara (20%) menjadi 50% validation dan 50% test\n",
        "    # Ini akan menghasilkan 10% validation dan 10% test dari total data asli\n",
        "    X_val, X_test, y_val, y_test = train_test_split(\n",
        "        X_temp,\n",
        "        y_temp,\n",
        "        test_size=0.5, # 50% dari 20% adalah 10%\n",
        "        random_state=42,\n",
        "        stratify=y_temp\n",
        "    )\n",
        "\n",
        "    print(f\"\\nDistribusi Data:\")\n",
        "    print(f\"   - Data Latih (Train)\\t\\t: {len(X_train)} sampel (~80%)\")\n",
        "    print(f\"   - Data Validasi (Validation)\\t: {len(X_val)} sampel (~10%)\")\n",
        "    print(f\"   - Data Uji (Test)\\t\\t: {len(X_test)} sampel (~10%)\")"
      ],
      "metadata": {
        "id": "e7vkMVXKHjmo",
        "colab": {
          "base_uri": "https://localhost:8080/"
        },
        "outputId": "50ce5f8c-ab26-48d0-88f7-672440b19c56"
      },
      "execution_count": 18,
      "outputs": [
        {
          "output_type": "stream",
          "name": "stdout",
          "text": [
            "\n",
            "✂️ PEMBAGIAN DATA MENJADI TRAIN, VALIDATION, & TEST SET\n",
            "\n",
            "Distribusi Data:\n",
            "   - Data Latih (Train)\t\t: 17318 sampel (~80%)\n",
            "   - Data Validasi (Validation)\t: 2165 sampel (~10%)\n",
            "   - Data Uji (Test)\t\t: 2165 sampel (~10%)\n"
          ]
        }
      ]
    },
    {
      "cell_type": "markdown",
      "source": [
        "# CELL 8: PEMBUATAN & PELATIHAN MODEL (3 SKEMA)"
      ],
      "metadata": {
        "id": "NP_90qieHnC7"
      }
    },
    {
      "cell_type": "code",
      "source": [
        "# ==================================================================================\n",
        "# CELL 8 (PERBAIKAN): PEMBUATAN DAN PELATIHAN MODEL\n",
        "# ==================================================================================\n",
        "if 'X_train' in locals():\n",
        "    print(\"\\n🤖 PEMBUATAN DAN PELATIHAN MODEL DEEP LEARNING\")\n",
        "\n",
        "    # Konfigurasi umum\n",
        "    embedding_dim = 64\n",
        "    num_classes = len(encoder.classes_)\n",
        "\n",
        "    # Callbacks\n",
        "    early_stopping = EarlyStopping(monitor='val_loss', patience=3, restore_best_weights=True)\n",
        "    reduce_lr = ReduceLROnPlateau(monitor='val_loss', factor=0.2, patience=2, min_lr=1e-6)\n",
        "\n",
        "    histories = {}\n",
        "    models = {} # Buat dictionary untuk menyimpan model yang sudah dilatih\n",
        "\n",
        "    # --- SKEMA 1: Model LSTM yang Lebih Baik ---\n",
        "    # <-- ARSITEKTUR DIPERBAIKI AGAR AKURASI TIDAK RENDAH\n",
        "    print(\"\\n--- [SKEMA 1] Melatih Model LSTM yang Lebih Baik ---\")\n",
        "    model_lstm = Sequential([\n",
        "        Embedding(input_dim=vocab_size, output_dim=embedding_dim, input_length=max_length),\n",
        "        LSTM(64, return_sequences=True),\n",
        "        GlobalMaxPooling1D(),\n",
        "        Dense(32, activation='relu'),\n",
        "        Dropout(0.5),\n",
        "        Dense(num_classes, activation='softmax')\n",
        "    ])\n",
        "    model_lstm.compile(loss='sparse_categorical_crossentropy', optimizer='adam', metrics=['accuracy'])\n",
        "    model_lstm.summary()\n",
        "\n",
        "    history_lstm = model_lstm.fit(\n",
        "        X_train, y_train,\n",
        "        epochs=15,\n",
        "        batch_size=64,\n",
        "        validation_data=(X_val, y_val), # <-- UBAH DI SINI (menggunakan data validasi)\n",
        "        callbacks=[early_stopping, reduce_lr]\n",
        "    )\n",
        "    histories['LSTM'] = history_lstm\n",
        "    models['LSTM'] = model_lstm\n",
        "\n",
        "    # --- SKEMA 2: Model Bidirectional LSTM ---\n",
        "    print(\"\\n--- [SKEMA 2] Melatih Model Bidirectional LSTM ---\")\n",
        "    model_bilstm = Sequential([\n",
        "        Embedding(input_dim=vocab_size, output_dim=embedding_dim, input_length=max_length),\n",
        "        Bidirectional(LSTM(64, return_sequences=True)),\n",
        "        GlobalMaxPooling1D(),\n",
        "        Dense(64, activation='relu'),\n",
        "        Dropout(0.5),\n",
        "        Dense(num_classes, activation='softmax')\n",
        "    ])\n",
        "    model_bilstm.compile(loss='sparse_categorical_crossentropy', optimizer='adam', metrics=['accuracy'])\n",
        "    model_bilstm.summary()\n",
        "\n",
        "    history_bilstm = model_bilstm.fit(\n",
        "        X_train, y_train,\n",
        "        epochs=15,\n",
        "        batch_size=64,\n",
        "        validation_data=(X_val, y_val), # <-- UBAH DI SINI (menggunakan data validasi)\n",
        "        callbacks=[early_stopping, reduce_lr]\n",
        "    )\n",
        "    histories['BiLSTM'] = history_bilstm\n",
        "    models['BiLSTM'] = model_bilstm\n",
        "\n",
        "    # --- SKEMA 3: Model BiLSTM dengan Dropout lebih banyak ---\n",
        "    print(\"\\n--- [SKEMA 3] Melatih Model BiLSTM dengan Dropout lebih banyak ---\")\n",
        "    model_bilstm_v2 = Sequential([\n",
        "        Embedding(input_dim=vocab_size, output_dim=embedding_dim, input_length=max_length),\n",
        "        Bidirectional(LSTM(128, return_sequences=True)),\n",
        "        GlobalMaxPooling1D(),\n",
        "        Dense(128, activation='relu'),\n",
        "        Dropout(0.6),\n",
        "        Dense(64, activation='relu'),\n",
        "        Dropout(0.4),\n",
        "        Dense(num_classes, activation='softmax')\n",
        "    ])\n",
        "    model_bilstm_v2.compile(loss='sparse_categorical_crossentropy', optimizer='adam', metrics=['accuracy'])\n",
        "    model_bilstm_v2.summary()\n",
        "\n",
        "    history_bilstm_v2 = model_bilstm_v2.fit(\n",
        "        X_train, y_train,\n",
        "        epochs=15,\n",
        "        batch_size=64,\n",
        "        validation_data=(X_val, y_val), # <-- UBAH DI SINI (menggunakan data validasi)\n",
        "        callbacks=[early_stopping, reduce_lr]\n",
        "    )\n",
        "    histories['BiLSTM_v2'] = history_bilstm_v2\n",
        "    models['BiLSTM_v2'] = model_bilstm_v2"
      ],
      "metadata": {
        "id": "dy4msd3qHnpo",
        "colab": {
          "base_uri": "https://localhost:8080/",
          "height": 1000
        },
        "outputId": "b3bee6b8-a704-46f7-956c-1ba39e79b0be"
      },
      "execution_count": 19,
      "outputs": [
        {
          "output_type": "stream",
          "name": "stdout",
          "text": [
            "\n",
            "🤖 PEMBUATAN DAN PELATIHAN MODEL DEEP LEARNING\n",
            "\n",
            "--- [SKEMA 1] Melatih Model LSTM yang Lebih Baik ---\n"
          ]
        },
        {
          "output_type": "display_data",
          "data": {
            "text/plain": [
              "\u001b[1mModel: \"sequential\"\u001b[0m\n"
            ],
            "text/html": [
              "<pre style=\"white-space:pre;overflow-x:auto;line-height:normal;font-family:Menlo,'DejaVu Sans Mono',consolas,'Courier New',monospace\"><span style=\"font-weight: bold\">Model: \"sequential\"</span>\n",
              "</pre>\n"
            ]
          },
          "metadata": {}
        },
        {
          "output_type": "display_data",
          "data": {
            "text/plain": [
              "┏━━━━━━━━━━━━━━━━━━━━━━━━━━━━━━━━━┳━━━━━━━━━━━━━━━━━━━━━━━━┳━━━━━━━━━━━━━━━┓\n",
              "┃\u001b[1m \u001b[0m\u001b[1mLayer (type)                   \u001b[0m\u001b[1m \u001b[0m┃\u001b[1m \u001b[0m\u001b[1mOutput Shape          \u001b[0m\u001b[1m \u001b[0m┃\u001b[1m \u001b[0m\u001b[1m      Param #\u001b[0m\u001b[1m \u001b[0m┃\n",
              "┡━━━━━━━━━━━━━━━━━━━━━━━━━━━━━━━━━╇━━━━━━━━━━━━━━━━━━━━━━━━╇━━━━━━━━━━━━━━━┩\n",
              "│ embedding (\u001b[38;5;33mEmbedding\u001b[0m)           │ ?                      │   \u001b[38;5;34m0\u001b[0m (unbuilt) │\n",
              "├─────────────────────────────────┼────────────────────────┼───────────────┤\n",
              "│ lstm (\u001b[38;5;33mLSTM\u001b[0m)                     │ ?                      │   \u001b[38;5;34m0\u001b[0m (unbuilt) │\n",
              "├─────────────────────────────────┼────────────────────────┼───────────────┤\n",
              "│ global_max_pooling1d            │ ?                      │             \u001b[38;5;34m0\u001b[0m │\n",
              "│ (\u001b[38;5;33mGlobalMaxPooling1D\u001b[0m)            │                        │               │\n",
              "├─────────────────────────────────┼────────────────────────┼───────────────┤\n",
              "│ dense (\u001b[38;5;33mDense\u001b[0m)                   │ ?                      │   \u001b[38;5;34m0\u001b[0m (unbuilt) │\n",
              "├─────────────────────────────────┼────────────────────────┼───────────────┤\n",
              "│ dropout (\u001b[38;5;33mDropout\u001b[0m)               │ ?                      │             \u001b[38;5;34m0\u001b[0m │\n",
              "├─────────────────────────────────┼────────────────────────┼───────────────┤\n",
              "│ dense_1 (\u001b[38;5;33mDense\u001b[0m)                 │ ?                      │   \u001b[38;5;34m0\u001b[0m (unbuilt) │\n",
              "└─────────────────────────────────┴────────────────────────┴───────────────┘\n"
            ],
            "text/html": [
              "<pre style=\"white-space:pre;overflow-x:auto;line-height:normal;font-family:Menlo,'DejaVu Sans Mono',consolas,'Courier New',monospace\">┏━━━━━━━━━━━━━━━━━━━━━━━━━━━━━━━━━┳━━━━━━━━━━━━━━━━━━━━━━━━┳━━━━━━━━━━━━━━━┓\n",
              "┃<span style=\"font-weight: bold\"> Layer (type)                    </span>┃<span style=\"font-weight: bold\"> Output Shape           </span>┃<span style=\"font-weight: bold\">       Param # </span>┃\n",
              "┡━━━━━━━━━━━━━━━━━━━━━━━━━━━━━━━━━╇━━━━━━━━━━━━━━━━━━━━━━━━╇━━━━━━━━━━━━━━━┩\n",
              "│ embedding (<span style=\"color: #0087ff; text-decoration-color: #0087ff\">Embedding</span>)           │ ?                      │   <span style=\"color: #00af00; text-decoration-color: #00af00\">0</span> (unbuilt) │\n",
              "├─────────────────────────────────┼────────────────────────┼───────────────┤\n",
              "│ lstm (<span style=\"color: #0087ff; text-decoration-color: #0087ff\">LSTM</span>)                     │ ?                      │   <span style=\"color: #00af00; text-decoration-color: #00af00\">0</span> (unbuilt) │\n",
              "├─────────────────────────────────┼────────────────────────┼───────────────┤\n",
              "│ global_max_pooling1d            │ ?                      │             <span style=\"color: #00af00; text-decoration-color: #00af00\">0</span> │\n",
              "│ (<span style=\"color: #0087ff; text-decoration-color: #0087ff\">GlobalMaxPooling1D</span>)            │                        │               │\n",
              "├─────────────────────────────────┼────────────────────────┼───────────────┤\n",
              "│ dense (<span style=\"color: #0087ff; text-decoration-color: #0087ff\">Dense</span>)                   │ ?                      │   <span style=\"color: #00af00; text-decoration-color: #00af00\">0</span> (unbuilt) │\n",
              "├─────────────────────────────────┼────────────────────────┼───────────────┤\n",
              "│ dropout (<span style=\"color: #0087ff; text-decoration-color: #0087ff\">Dropout</span>)               │ ?                      │             <span style=\"color: #00af00; text-decoration-color: #00af00\">0</span> │\n",
              "├─────────────────────────────────┼────────────────────────┼───────────────┤\n",
              "│ dense_1 (<span style=\"color: #0087ff; text-decoration-color: #0087ff\">Dense</span>)                 │ ?                      │   <span style=\"color: #00af00; text-decoration-color: #00af00\">0</span> (unbuilt) │\n",
              "└─────────────────────────────────┴────────────────────────┴───────────────┘\n",
              "</pre>\n"
            ]
          },
          "metadata": {}
        },
        {
          "output_type": "display_data",
          "data": {
            "text/plain": [
              "\u001b[1m Total params: \u001b[0m\u001b[38;5;34m0\u001b[0m (0.00 B)\n"
            ],
            "text/html": [
              "<pre style=\"white-space:pre;overflow-x:auto;line-height:normal;font-family:Menlo,'DejaVu Sans Mono',consolas,'Courier New',monospace\"><span style=\"font-weight: bold\"> Total params: </span><span style=\"color: #00af00; text-decoration-color: #00af00\">0</span> (0.00 B)\n",
              "</pre>\n"
            ]
          },
          "metadata": {}
        },
        {
          "output_type": "display_data",
          "data": {
            "text/plain": [
              "\u001b[1m Trainable params: \u001b[0m\u001b[38;5;34m0\u001b[0m (0.00 B)\n"
            ],
            "text/html": [
              "<pre style=\"white-space:pre;overflow-x:auto;line-height:normal;font-family:Menlo,'DejaVu Sans Mono',consolas,'Courier New',monospace\"><span style=\"font-weight: bold\"> Trainable params: </span><span style=\"color: #00af00; text-decoration-color: #00af00\">0</span> (0.00 B)\n",
              "</pre>\n"
            ]
          },
          "metadata": {}
        },
        {
          "output_type": "display_data",
          "data": {
            "text/plain": [
              "\u001b[1m Non-trainable params: \u001b[0m\u001b[38;5;34m0\u001b[0m (0.00 B)\n"
            ],
            "text/html": [
              "<pre style=\"white-space:pre;overflow-x:auto;line-height:normal;font-family:Menlo,'DejaVu Sans Mono',consolas,'Courier New',monospace\"><span style=\"font-weight: bold\"> Non-trainable params: </span><span style=\"color: #00af00; text-decoration-color: #00af00\">0</span> (0.00 B)\n",
              "</pre>\n"
            ]
          },
          "metadata": {}
        },
        {
          "output_type": "stream",
          "name": "stdout",
          "text": [
            "Epoch 1/15\n",
            "\u001b[1m271/271\u001b[0m \u001b[32m━━━━━━━━━━━━━━━━━━━━\u001b[0m\u001b[37m\u001b[0m \u001b[1m41s\u001b[0m 126ms/step - accuracy: 0.4844 - loss: 0.9959 - val_accuracy: 0.7875 - val_loss: 0.6020 - learning_rate: 0.0010\n",
            "Epoch 2/15\n",
            "\u001b[1m271/271\u001b[0m \u001b[32m━━━━━━━━━━━━━━━━━━━━\u001b[0m\u001b[37m\u001b[0m \u001b[1m32s\u001b[0m 92ms/step - accuracy: 0.7996 - loss: 0.5587 - val_accuracy: 0.8263 - val_loss: 0.5094 - learning_rate: 0.0010\n",
            "Epoch 3/15\n",
            "\u001b[1m271/271\u001b[0m \u001b[32m━━━━━━━━━━━━━━━━━━━━\u001b[0m\u001b[37m\u001b[0m \u001b[1m41s\u001b[0m 93ms/step - accuracy: 0.8577 - loss: 0.4361 - val_accuracy: 0.8550 - val_loss: 0.4168 - learning_rate: 0.0010\n",
            "Epoch 4/15\n",
            "\u001b[1m271/271\u001b[0m \u001b[32m━━━━━━━━━━━━━━━━━━━━\u001b[0m\u001b[37m\u001b[0m \u001b[1m39s\u001b[0m 88ms/step - accuracy: 0.8967 - loss: 0.3248 - val_accuracy: 0.8711 - val_loss: 0.3825 - learning_rate: 0.0010\n",
            "Epoch 5/15\n",
            "\u001b[1m271/271\u001b[0m \u001b[32m━━━━━━━━━━━━━━━━━━━━\u001b[0m\u001b[37m\u001b[0m \u001b[1m43s\u001b[0m 97ms/step - accuracy: 0.9210 - loss: 0.2612 - val_accuracy: 0.8808 - val_loss: 0.3615 - learning_rate: 0.0010\n",
            "Epoch 6/15\n",
            "\u001b[1m271/271\u001b[0m \u001b[32m━━━━━━━━━━━━━━━━━━━━\u001b[0m\u001b[37m\u001b[0m \u001b[1m39s\u001b[0m 91ms/step - accuracy: 0.9314 - loss: 0.2277 - val_accuracy: 0.8808 - val_loss: 0.3913 - learning_rate: 0.0010\n",
            "Epoch 7/15\n",
            "\u001b[1m271/271\u001b[0m \u001b[32m━━━━━━━━━━━━━━━━━━━━\u001b[0m\u001b[37m\u001b[0m \u001b[1m25s\u001b[0m 91ms/step - accuracy: 0.9368 - loss: 0.2122 - val_accuracy: 0.8813 - val_loss: 0.3954 - learning_rate: 0.0010\n",
            "Epoch 8/15\n",
            "\u001b[1m271/271\u001b[0m \u001b[32m━━━━━━━━━━━━━━━━━━━━\u001b[0m\u001b[37m\u001b[0m \u001b[1m25s\u001b[0m 93ms/step - accuracy: 0.9489 - loss: 0.1874 - val_accuracy: 0.8873 - val_loss: 0.4267 - learning_rate: 2.0000e-04\n",
            "\n",
            "--- [SKEMA 2] Melatih Model Bidirectional LSTM ---\n"
          ]
        },
        {
          "output_type": "display_data",
          "data": {
            "text/plain": [
              "\u001b[1mModel: \"sequential_1\"\u001b[0m\n"
            ],
            "text/html": [
              "<pre style=\"white-space:pre;overflow-x:auto;line-height:normal;font-family:Menlo,'DejaVu Sans Mono',consolas,'Courier New',monospace\"><span style=\"font-weight: bold\">Model: \"sequential_1\"</span>\n",
              "</pre>\n"
            ]
          },
          "metadata": {}
        },
        {
          "output_type": "display_data",
          "data": {
            "text/plain": [
              "┏━━━━━━━━━━━━━━━━━━━━━━━━━━━━━━━━━┳━━━━━━━━━━━━━━━━━━━━━━━━┳━━━━━━━━━━━━━━━┓\n",
              "┃\u001b[1m \u001b[0m\u001b[1mLayer (type)                   \u001b[0m\u001b[1m \u001b[0m┃\u001b[1m \u001b[0m\u001b[1mOutput Shape          \u001b[0m\u001b[1m \u001b[0m┃\u001b[1m \u001b[0m\u001b[1m      Param #\u001b[0m\u001b[1m \u001b[0m┃\n",
              "┡━━━━━━━━━━━━━━━━━━━━━━━━━━━━━━━━━╇━━━━━━━━━━━━━━━━━━━━━━━━╇━━━━━━━━━━━━━━━┩\n",
              "│ embedding_1 (\u001b[38;5;33mEmbedding\u001b[0m)         │ ?                      │   \u001b[38;5;34m0\u001b[0m (unbuilt) │\n",
              "├─────────────────────────────────┼────────────────────────┼───────────────┤\n",
              "│ bidirectional (\u001b[38;5;33mBidirectional\u001b[0m)   │ ?                      │   \u001b[38;5;34m0\u001b[0m (unbuilt) │\n",
              "├─────────────────────────────────┼────────────────────────┼───────────────┤\n",
              "│ global_max_pooling1d_1          │ ?                      │             \u001b[38;5;34m0\u001b[0m │\n",
              "│ (\u001b[38;5;33mGlobalMaxPooling1D\u001b[0m)            │                        │               │\n",
              "├─────────────────────────────────┼────────────────────────┼───────────────┤\n",
              "│ dense_2 (\u001b[38;5;33mDense\u001b[0m)                 │ ?                      │   \u001b[38;5;34m0\u001b[0m (unbuilt) │\n",
              "├─────────────────────────────────┼────────────────────────┼───────────────┤\n",
              "│ dropout_1 (\u001b[38;5;33mDropout\u001b[0m)             │ ?                      │             \u001b[38;5;34m0\u001b[0m │\n",
              "├─────────────────────────────────┼────────────────────────┼───────────────┤\n",
              "│ dense_3 (\u001b[38;5;33mDense\u001b[0m)                 │ ?                      │   \u001b[38;5;34m0\u001b[0m (unbuilt) │\n",
              "└─────────────────────────────────┴────────────────────────┴───────────────┘\n"
            ],
            "text/html": [
              "<pre style=\"white-space:pre;overflow-x:auto;line-height:normal;font-family:Menlo,'DejaVu Sans Mono',consolas,'Courier New',monospace\">┏━━━━━━━━━━━━━━━━━━━━━━━━━━━━━━━━━┳━━━━━━━━━━━━━━━━━━━━━━━━┳━━━━━━━━━━━━━━━┓\n",
              "┃<span style=\"font-weight: bold\"> Layer (type)                    </span>┃<span style=\"font-weight: bold\"> Output Shape           </span>┃<span style=\"font-weight: bold\">       Param # </span>┃\n",
              "┡━━━━━━━━━━━━━━━━━━━━━━━━━━━━━━━━━╇━━━━━━━━━━━━━━━━━━━━━━━━╇━━━━━━━━━━━━━━━┩\n",
              "│ embedding_1 (<span style=\"color: #0087ff; text-decoration-color: #0087ff\">Embedding</span>)         │ ?                      │   <span style=\"color: #00af00; text-decoration-color: #00af00\">0</span> (unbuilt) │\n",
              "├─────────────────────────────────┼────────────────────────┼───────────────┤\n",
              "│ bidirectional (<span style=\"color: #0087ff; text-decoration-color: #0087ff\">Bidirectional</span>)   │ ?                      │   <span style=\"color: #00af00; text-decoration-color: #00af00\">0</span> (unbuilt) │\n",
              "├─────────────────────────────────┼────────────────────────┼───────────────┤\n",
              "│ global_max_pooling1d_1          │ ?                      │             <span style=\"color: #00af00; text-decoration-color: #00af00\">0</span> │\n",
              "│ (<span style=\"color: #0087ff; text-decoration-color: #0087ff\">GlobalMaxPooling1D</span>)            │                        │               │\n",
              "├─────────────────────────────────┼────────────────────────┼───────────────┤\n",
              "│ dense_2 (<span style=\"color: #0087ff; text-decoration-color: #0087ff\">Dense</span>)                 │ ?                      │   <span style=\"color: #00af00; text-decoration-color: #00af00\">0</span> (unbuilt) │\n",
              "├─────────────────────────────────┼────────────────────────┼───────────────┤\n",
              "│ dropout_1 (<span style=\"color: #0087ff; text-decoration-color: #0087ff\">Dropout</span>)             │ ?                      │             <span style=\"color: #00af00; text-decoration-color: #00af00\">0</span> │\n",
              "├─────────────────────────────────┼────────────────────────┼───────────────┤\n",
              "│ dense_3 (<span style=\"color: #0087ff; text-decoration-color: #0087ff\">Dense</span>)                 │ ?                      │   <span style=\"color: #00af00; text-decoration-color: #00af00\">0</span> (unbuilt) │\n",
              "└─────────────────────────────────┴────────────────────────┴───────────────┘\n",
              "</pre>\n"
            ]
          },
          "metadata": {}
        },
        {
          "output_type": "display_data",
          "data": {
            "text/plain": [
              "\u001b[1m Total params: \u001b[0m\u001b[38;5;34m0\u001b[0m (0.00 B)\n"
            ],
            "text/html": [
              "<pre style=\"white-space:pre;overflow-x:auto;line-height:normal;font-family:Menlo,'DejaVu Sans Mono',consolas,'Courier New',monospace\"><span style=\"font-weight: bold\"> Total params: </span><span style=\"color: #00af00; text-decoration-color: #00af00\">0</span> (0.00 B)\n",
              "</pre>\n"
            ]
          },
          "metadata": {}
        },
        {
          "output_type": "display_data",
          "data": {
            "text/plain": [
              "\u001b[1m Trainable params: \u001b[0m\u001b[38;5;34m0\u001b[0m (0.00 B)\n"
            ],
            "text/html": [
              "<pre style=\"white-space:pre;overflow-x:auto;line-height:normal;font-family:Menlo,'DejaVu Sans Mono',consolas,'Courier New',monospace\"><span style=\"font-weight: bold\"> Trainable params: </span><span style=\"color: #00af00; text-decoration-color: #00af00\">0</span> (0.00 B)\n",
              "</pre>\n"
            ]
          },
          "metadata": {}
        },
        {
          "output_type": "display_data",
          "data": {
            "text/plain": [
              "\u001b[1m Non-trainable params: \u001b[0m\u001b[38;5;34m0\u001b[0m (0.00 B)\n"
            ],
            "text/html": [
              "<pre style=\"white-space:pre;overflow-x:auto;line-height:normal;font-family:Menlo,'DejaVu Sans Mono',consolas,'Courier New',monospace\"><span style=\"font-weight: bold\"> Non-trainable params: </span><span style=\"color: #00af00; text-decoration-color: #00af00\">0</span> (0.00 B)\n",
              "</pre>\n"
            ]
          },
          "metadata": {}
        },
        {
          "output_type": "stream",
          "name": "stdout",
          "text": [
            "Epoch 1/15\n",
            "\u001b[1m271/271\u001b[0m \u001b[32m━━━━━━━━━━━━━━━━━━━━\u001b[0m\u001b[37m\u001b[0m \u001b[1m52s\u001b[0m 172ms/step - accuracy: 0.4909 - loss: 0.9847 - val_accuracy: 0.7746 - val_loss: 0.5940 - learning_rate: 0.0010\n",
            "Epoch 2/15\n",
            "\u001b[1m271/271\u001b[0m \u001b[32m━━━━━━━━━━━━━━━━━━━━\u001b[0m\u001b[37m\u001b[0m \u001b[1m88s\u001b[0m 196ms/step - accuracy: 0.8014 - loss: 0.5342 - val_accuracy: 0.8443 - val_loss: 0.4430 - learning_rate: 0.0010\n",
            "Epoch 3/15\n",
            "\u001b[1m271/271\u001b[0m \u001b[32m━━━━━━━━━━━━━━━━━━━━\u001b[0m\u001b[37m\u001b[0m \u001b[1m52s\u001b[0m 193ms/step - accuracy: 0.8856 - loss: 0.3385 - val_accuracy: 0.8721 - val_loss: 0.3541 - learning_rate: 0.0010\n",
            "Epoch 4/15\n",
            "\u001b[1m271/271\u001b[0m \u001b[32m━━━━━━━━━━━━━━━━━━━━\u001b[0m\u001b[37m\u001b[0m \u001b[1m53s\u001b[0m 197ms/step - accuracy: 0.9098 - loss: 0.2661 - val_accuracy: 0.8841 - val_loss: 0.3468 - learning_rate: 0.0010\n",
            "Epoch 5/15\n",
            "\u001b[1m271/271\u001b[0m \u001b[32m━━━━━━━━━━━━━━━━━━━━\u001b[0m\u001b[37m\u001b[0m \u001b[1m73s\u001b[0m 164ms/step - accuracy: 0.9250 - loss: 0.2125 - val_accuracy: 0.8841 - val_loss: 0.3614 - learning_rate: 0.0010\n",
            "Epoch 6/15\n",
            "\u001b[1m271/271\u001b[0m \u001b[32m━━━━━━━━━━━━━━━━━━━━\u001b[0m\u001b[37m\u001b[0m \u001b[1m81s\u001b[0m 161ms/step - accuracy: 0.9400 - loss: 0.1849 - val_accuracy: 0.8873 - val_loss: 0.3764 - learning_rate: 0.0010\n",
            "Epoch 7/15\n",
            "\u001b[1m271/271\u001b[0m \u001b[32m━━━━━━━━━━━━━━━━━━━━\u001b[0m\u001b[37m\u001b[0m \u001b[1m45s\u001b[0m 166ms/step - accuracy: 0.9576 - loss: 0.1324 - val_accuracy: 0.8878 - val_loss: 0.3790 - learning_rate: 2.0000e-04\n",
            "\n",
            "--- [SKEMA 3] Melatih Model BiLSTM dengan Dropout lebih banyak ---\n"
          ]
        },
        {
          "output_type": "display_data",
          "data": {
            "text/plain": [
              "\u001b[1mModel: \"sequential_2\"\u001b[0m\n"
            ],
            "text/html": [
              "<pre style=\"white-space:pre;overflow-x:auto;line-height:normal;font-family:Menlo,'DejaVu Sans Mono',consolas,'Courier New',monospace\"><span style=\"font-weight: bold\">Model: \"sequential_2\"</span>\n",
              "</pre>\n"
            ]
          },
          "metadata": {}
        },
        {
          "output_type": "display_data",
          "data": {
            "text/plain": [
              "┏━━━━━━━━━━━━━━━━━━━━━━━━━━━━━━━━━┳━━━━━━━━━━━━━━━━━━━━━━━━┳━━━━━━━━━━━━━━━┓\n",
              "┃\u001b[1m \u001b[0m\u001b[1mLayer (type)                   \u001b[0m\u001b[1m \u001b[0m┃\u001b[1m \u001b[0m\u001b[1mOutput Shape          \u001b[0m\u001b[1m \u001b[0m┃\u001b[1m \u001b[0m\u001b[1m      Param #\u001b[0m\u001b[1m \u001b[0m┃\n",
              "┡━━━━━━━━━━━━━━━━━━━━━━━━━━━━━━━━━╇━━━━━━━━━━━━━━━━━━━━━━━━╇━━━━━━━━━━━━━━━┩\n",
              "│ embedding_2 (\u001b[38;5;33mEmbedding\u001b[0m)         │ ?                      │   \u001b[38;5;34m0\u001b[0m (unbuilt) │\n",
              "├─────────────────────────────────┼────────────────────────┼───────────────┤\n",
              "│ bidirectional_1 (\u001b[38;5;33mBidirectional\u001b[0m) │ ?                      │   \u001b[38;5;34m0\u001b[0m (unbuilt) │\n",
              "├─────────────────────────────────┼────────────────────────┼───────────────┤\n",
              "│ global_max_pooling1d_2          │ ?                      │             \u001b[38;5;34m0\u001b[0m │\n",
              "│ (\u001b[38;5;33mGlobalMaxPooling1D\u001b[0m)            │                        │               │\n",
              "├─────────────────────────────────┼────────────────────────┼───────────────┤\n",
              "│ dense_4 (\u001b[38;5;33mDense\u001b[0m)                 │ ?                      │   \u001b[38;5;34m0\u001b[0m (unbuilt) │\n",
              "├─────────────────────────────────┼────────────────────────┼───────────────┤\n",
              "│ dropout_2 (\u001b[38;5;33mDropout\u001b[0m)             │ ?                      │             \u001b[38;5;34m0\u001b[0m │\n",
              "├─────────────────────────────────┼────────────────────────┼───────────────┤\n",
              "│ dense_5 (\u001b[38;5;33mDense\u001b[0m)                 │ ?                      │   \u001b[38;5;34m0\u001b[0m (unbuilt) │\n",
              "├─────────────────────────────────┼────────────────────────┼───────────────┤\n",
              "│ dropout_3 (\u001b[38;5;33mDropout\u001b[0m)             │ ?                      │             \u001b[38;5;34m0\u001b[0m │\n",
              "├─────────────────────────────────┼────────────────────────┼───────────────┤\n",
              "│ dense_6 (\u001b[38;5;33mDense\u001b[0m)                 │ ?                      │   \u001b[38;5;34m0\u001b[0m (unbuilt) │\n",
              "└─────────────────────────────────┴────────────────────────┴───────────────┘\n"
            ],
            "text/html": [
              "<pre style=\"white-space:pre;overflow-x:auto;line-height:normal;font-family:Menlo,'DejaVu Sans Mono',consolas,'Courier New',monospace\">┏━━━━━━━━━━━━━━━━━━━━━━━━━━━━━━━━━┳━━━━━━━━━━━━━━━━━━━━━━━━┳━━━━━━━━━━━━━━━┓\n",
              "┃<span style=\"font-weight: bold\"> Layer (type)                    </span>┃<span style=\"font-weight: bold\"> Output Shape           </span>┃<span style=\"font-weight: bold\">       Param # </span>┃\n",
              "┡━━━━━━━━━━━━━━━━━━━━━━━━━━━━━━━━━╇━━━━━━━━━━━━━━━━━━━━━━━━╇━━━━━━━━━━━━━━━┩\n",
              "│ embedding_2 (<span style=\"color: #0087ff; text-decoration-color: #0087ff\">Embedding</span>)         │ ?                      │   <span style=\"color: #00af00; text-decoration-color: #00af00\">0</span> (unbuilt) │\n",
              "├─────────────────────────────────┼────────────────────────┼───────────────┤\n",
              "│ bidirectional_1 (<span style=\"color: #0087ff; text-decoration-color: #0087ff\">Bidirectional</span>) │ ?                      │   <span style=\"color: #00af00; text-decoration-color: #00af00\">0</span> (unbuilt) │\n",
              "├─────────────────────────────────┼────────────────────────┼───────────────┤\n",
              "│ global_max_pooling1d_2          │ ?                      │             <span style=\"color: #00af00; text-decoration-color: #00af00\">0</span> │\n",
              "│ (<span style=\"color: #0087ff; text-decoration-color: #0087ff\">GlobalMaxPooling1D</span>)            │                        │               │\n",
              "├─────────────────────────────────┼────────────────────────┼───────────────┤\n",
              "│ dense_4 (<span style=\"color: #0087ff; text-decoration-color: #0087ff\">Dense</span>)                 │ ?                      │   <span style=\"color: #00af00; text-decoration-color: #00af00\">0</span> (unbuilt) │\n",
              "├─────────────────────────────────┼────────────────────────┼───────────────┤\n",
              "│ dropout_2 (<span style=\"color: #0087ff; text-decoration-color: #0087ff\">Dropout</span>)             │ ?                      │             <span style=\"color: #00af00; text-decoration-color: #00af00\">0</span> │\n",
              "├─────────────────────────────────┼────────────────────────┼───────────────┤\n",
              "│ dense_5 (<span style=\"color: #0087ff; text-decoration-color: #0087ff\">Dense</span>)                 │ ?                      │   <span style=\"color: #00af00; text-decoration-color: #00af00\">0</span> (unbuilt) │\n",
              "├─────────────────────────────────┼────────────────────────┼───────────────┤\n",
              "│ dropout_3 (<span style=\"color: #0087ff; text-decoration-color: #0087ff\">Dropout</span>)             │ ?                      │             <span style=\"color: #00af00; text-decoration-color: #00af00\">0</span> │\n",
              "├─────────────────────────────────┼────────────────────────┼───────────────┤\n",
              "│ dense_6 (<span style=\"color: #0087ff; text-decoration-color: #0087ff\">Dense</span>)                 │ ?                      │   <span style=\"color: #00af00; text-decoration-color: #00af00\">0</span> (unbuilt) │\n",
              "└─────────────────────────────────┴────────────────────────┴───────────────┘\n",
              "</pre>\n"
            ]
          },
          "metadata": {}
        },
        {
          "output_type": "display_data",
          "data": {
            "text/plain": [
              "\u001b[1m Total params: \u001b[0m\u001b[38;5;34m0\u001b[0m (0.00 B)\n"
            ],
            "text/html": [
              "<pre style=\"white-space:pre;overflow-x:auto;line-height:normal;font-family:Menlo,'DejaVu Sans Mono',consolas,'Courier New',monospace\"><span style=\"font-weight: bold\"> Total params: </span><span style=\"color: #00af00; text-decoration-color: #00af00\">0</span> (0.00 B)\n",
              "</pre>\n"
            ]
          },
          "metadata": {}
        },
        {
          "output_type": "display_data",
          "data": {
            "text/plain": [
              "\u001b[1m Trainable params: \u001b[0m\u001b[38;5;34m0\u001b[0m (0.00 B)\n"
            ],
            "text/html": [
              "<pre style=\"white-space:pre;overflow-x:auto;line-height:normal;font-family:Menlo,'DejaVu Sans Mono',consolas,'Courier New',monospace\"><span style=\"font-weight: bold\"> Trainable params: </span><span style=\"color: #00af00; text-decoration-color: #00af00\">0</span> (0.00 B)\n",
              "</pre>\n"
            ]
          },
          "metadata": {}
        },
        {
          "output_type": "display_data",
          "data": {
            "text/plain": [
              "\u001b[1m Non-trainable params: \u001b[0m\u001b[38;5;34m0\u001b[0m (0.00 B)\n"
            ],
            "text/html": [
              "<pre style=\"white-space:pre;overflow-x:auto;line-height:normal;font-family:Menlo,'DejaVu Sans Mono',consolas,'Courier New',monospace\"><span style=\"font-weight: bold\"> Non-trainable params: </span><span style=\"color: #00af00; text-decoration-color: #00af00\">0</span> (0.00 B)\n",
              "</pre>\n"
            ]
          },
          "metadata": {}
        },
        {
          "output_type": "stream",
          "name": "stdout",
          "text": [
            "Epoch 1/15\n",
            "\u001b[1m271/271\u001b[0m \u001b[32m━━━━━━━━━━━━━━━━━━━━\u001b[0m\u001b[37m\u001b[0m \u001b[1m121s\u001b[0m 427ms/step - accuracy: 0.4412 - loss: 1.0210 - val_accuracy: 0.6942 - val_loss: 0.7667 - learning_rate: 0.0010\n",
            "Epoch 2/15\n",
            "\u001b[1m271/271\u001b[0m \u001b[32m━━━━━━━━━━━━━━━━━━━━\u001b[0m\u001b[37m\u001b[0m \u001b[1m114s\u001b[0m 419ms/step - accuracy: 0.7163 - loss: 0.6967 - val_accuracy: 0.8402 - val_loss: 0.4494 - learning_rate: 0.0010\n",
            "Epoch 3/15\n",
            "\u001b[1m271/271\u001b[0m \u001b[32m━━━━━━━━━━━━━━━━━━━━\u001b[0m\u001b[37m\u001b[0m \u001b[1m147s\u001b[0m 438ms/step - accuracy: 0.8710 - loss: 0.3821 - val_accuracy: 0.8633 - val_loss: 0.3928 - learning_rate: 0.0010\n",
            "Epoch 4/15\n",
            "\u001b[1m271/271\u001b[0m \u001b[32m━━━━━━━━━━━━━━━━━━━━\u001b[0m\u001b[37m\u001b[0m \u001b[1m157s\u001b[0m 494ms/step - accuracy: 0.9100 - loss: 0.2705 - val_accuracy: 0.8725 - val_loss: 0.3835 - learning_rate: 0.0010\n",
            "Epoch 5/15\n",
            "\u001b[1m271/271\u001b[0m \u001b[32m━━━━━━━━━━━━━━━━━━━━\u001b[0m\u001b[37m\u001b[0m \u001b[1m135s\u001b[0m 467ms/step - accuracy: 0.9226 - loss: 0.2243 - val_accuracy: 0.8827 - val_loss: 0.3620 - learning_rate: 0.0010\n",
            "Epoch 6/15\n",
            "\u001b[1m271/271\u001b[0m \u001b[32m━━━━━━━━━━━━━━━━━━━━\u001b[0m\u001b[37m\u001b[0m \u001b[1m113s\u001b[0m 418ms/step - accuracy: 0.9404 - loss: 0.1796 - val_accuracy: 0.8813 - val_loss: 0.4217 - learning_rate: 0.0010\n",
            "Epoch 7/15\n",
            "\u001b[1m271/271\u001b[0m \u001b[32m━━━━━━━━━━━━━━━━━━━━\u001b[0m\u001b[37m\u001b[0m \u001b[1m142s\u001b[0m 416ms/step - accuracy: 0.9463 - loss: 0.1573 - val_accuracy: 0.8841 - val_loss: 0.3972 - learning_rate: 0.0010\n",
            "Epoch 8/15\n",
            "\u001b[1m271/271\u001b[0m \u001b[32m━━━━━━━━━━━━━━━━━━━━\u001b[0m\u001b[37m\u001b[0m \u001b[1m142s\u001b[0m 415ms/step - accuracy: 0.9609 - loss: 0.1213 - val_accuracy: 0.8905 - val_loss: 0.4263 - learning_rate: 2.0000e-04\n"
          ]
        }
      ]
    },
    {
      "cell_type": "markdown",
      "source": [
        "# CELL 9: EVALUASI MODEL"
      ],
      "metadata": {
        "id": "KClSSejYHu-5"
      }
    },
    {
      "cell_type": "code",
      "source": [
        "# ==================================================================================\n",
        "# CELL 9 (PERBAIKAN): EVALUASI MODEL PADA VALIDATION & TEST SET\n",
        "# ==================================================================================\n",
        "if 'histories' in locals():\n",
        "    print(\"\\n📈 EVALUASI PERFORMA MODEL\")\n",
        "\n",
        "    # --- Evaluasi pada Validation Set (Data Latihan Soal) ---\n",
        "    print(\"\\n--- Hasil Akurasi pada Validation Set ---\")\n",
        "\n",
        "    best_model_name = ''\n",
        "    best_val_accuracy = 0\n",
        "\n",
        "    results = {}\n",
        "\n",
        "    for name, history in histories.items():\n",
        "        val_acc = max(history.history['val_accuracy'])\n",
        "        train_acc = max(history.history['accuracy'])\n",
        "        results[name] = {'train_acc': train_acc, 'val_acc': val_acc}\n",
        "        if val_acc > best_val_accuracy:\n",
        "            best_val_accuracy = val_acc\n",
        "            best_model_name = name\n",
        "\n",
        "    for name, accs in results.items():\n",
        "        print(f\"  - Model {name}:\")\n",
        "        print(f\"    - Akurasi Training: {accs['train_acc']:.2%}\")\n",
        "        print(f\"    - Akurasi Validasi: {accs['val_acc']:.2%}\") # <-- Penamaan diperjelas\n",
        "\n",
        "    print(f\"\\n🏆 Model terbaik berdasarkan akurasi validasi adalah: {best_model_name} ({best_val_accuracy:.2%})\")\n",
        "    best_model = models[best_model_name]\n",
        "\n",
        "    # Plotting history model terbaik\n",
        "    print(f\"\\n--- Grafik History untuk Model Terbaik ({best_model_name}) ---\")\n",
        "    best_history = histories[best_model_name]\n",
        "    plt.figure(figsize=(12, 5))\n",
        "\n",
        "    plt.subplot(1, 2, 1)\n",
        "    plt.plot(best_history.history['accuracy'], label='Akurasi Training')\n",
        "    plt.plot(best_history.history['val_accuracy'], label='Akurasi Validation')\n",
        "    plt.title(f'Grafik Akurasi Model {best_model_name}')\n",
        "    plt.xlabel('Epoch')\n",
        "    plt.ylabel('Akurasi')\n",
        "    plt.legend()\n",
        "\n",
        "    plt.subplot(1, 2, 2)\n",
        "    plt.plot(best_history.history['loss'], label='Loss Training')\n",
        "    plt.plot(best_history.history['val_loss'], label='Loss Validation')\n",
        "    plt.title(f'Grafik Loss Model {best_model_name}')\n",
        "    plt.xlabel('Epoch')\n",
        "    plt.ylabel('Loss')\n",
        "    plt.legend()\n",
        "\n",
        "    plt.tight_layout()\n",
        "    plt.show()\n",
        "\n",
        "    # --- EVALUASI AKHIR PADA TEST SET (SESUAI FEEDBACK REVIEWER) ---\n",
        "    print(\"\\n\" + \"=\"*50)\n",
        "    print(\"--- Evaluasi Akhir pada Test Set (Data Ujian Sebenarnya) ---\")\n",
        "    print(\"=\"*50)\n",
        "\n",
        "    for name, model in models.items():\n",
        "        print(f\"\\n Mengevaluasi Model: {name}...\")\n",
        "        loss, accuracy = model.evaluate(X_test, y_test, verbose=0)\n",
        "        print(f\"   - Test Loss    : {loss:.4f}\")\n",
        "        print(f\"   - Test Accuracy: {accuracy:.2%}\")\n",
        "\n",
        "        # Validasi Kriteria Dicoding pada TEST SET\n",
        "        if accuracy > 0.92:\n",
        "            print(\"   - ✅ Memenuhi kriteria > 92%\")\n",
        "        elif accuracy > 0.85:\n",
        "            print(\"   - ✅ Memenuhi kriteria > 85%\")\n",
        "        else:\n",
        "            print(\"   - ❌ Tidak memenuhi kriteria minimal 85%\")"
      ],
      "metadata": {
        "id": "t9Wyq8_XHvhA",
        "colab": {
          "base_uri": "https://localhost:8080/",
          "height": 968
        },
        "outputId": "fcdde809-4480-4d82-8b6f-4afde2177aa8"
      },
      "execution_count": 20,
      "outputs": [
        {
          "output_type": "stream",
          "name": "stdout",
          "text": [
            "\n",
            "📈 EVALUASI PERFORMA MODEL\n",
            "\n",
            "--- Hasil Akurasi pada Validation Set ---\n",
            "  - Model LSTM:\n",
            "    - Akurasi Training: 95.06%\n",
            "    - Akurasi Validasi: 88.73%\n",
            "  - Model BiLSTM:\n",
            "    - Akurasi Training: 95.69%\n",
            "    - Akurasi Validasi: 88.78%\n",
            "  - Model BiLSTM_v2:\n",
            "    - Akurasi Training: 96.12%\n",
            "    - Akurasi Validasi: 89.05%\n",
            "\n",
            "🏆 Model terbaik berdasarkan akurasi validasi adalah: BiLSTM_v2 (89.05%)\n",
            "\n",
            "--- Grafik History untuk Model Terbaik (BiLSTM_v2) ---\n"
          ]
        },
        {
          "output_type": "display_data",
          "data": {
            "text/plain": [
              "<Figure size 1200x500 with 2 Axes>"
            ],
            "image/png": "[encoded data removed]"
          },
          "metadata": {}
        },
        {
          "output_type": "stream",
          "name": "stdout",
          "text": [
            "\n",
            "==================================================\n",
            "--- Evaluasi Akhir pada Test Set (Data Ujian Sebenarnya) ---\n",
            "==================================================\n",
            "\n",
            " Mengevaluasi Model: LSTM...\n",
            "   - Test Loss    : 0.4087\n",
            "   - Test Accuracy: 86.88%\n",
            "   - ✅ Memenuhi kriteria > 85%\n",
            "\n",
            " Mengevaluasi Model: BiLSTM...\n",
            "   - Test Loss    : 0.3853\n",
            "   - Test Accuracy: 87.25%\n",
            "   - ✅ Memenuhi kriteria > 85%\n",
            "\n",
            " Mengevaluasi Model: BiLSTM_v2...\n",
            "   - Test Loss    : 0.3862\n",
            "   - Test Accuracy: 87.07%\n",
            "   - ✅ Memenuhi kriteria > 85%\n"
          ]
        }
      ]
    },
    {
      "cell_type": "markdown",
      "source": [
        "# CELL 10: INFERENCE (PENGUJIAN DENGAN TEKS BARU)"
      ],
      "metadata": {
        "id": "bhdaQZ_xHxwT"
      }
    },
    {
      "cell_type": "code",
      "source": [
        "if 'best_model' in locals():\n",
        "    print(\"\\n🧪 INFERENCE - MENGUJI MODEL DENGAN KALIMAT BARU\")\n",
        "\n",
        "    def predict_sentiment(text):\n",
        "        # Preprocessing teks input\n",
        "        processed_text = advanced_preprocess(text)\n",
        "\n",
        "        # Konversi ke sekuens\n",
        "        sequence = tokenizer.texts_to_sequences([processed_text])\n",
        "\n",
        "        # Padding\n",
        "        padded = pad_sequences(sequence, maxlen=max_length, padding='post', truncating='post')\n",
        "\n",
        "        # Prediksi\n",
        "        prediction = best_model.predict(padded)\n",
        "        predicted_class_index = np.argmax(prediction)\n",
        "\n",
        "        # Konversi indeks ke label sentimen\n",
        "        predicted_sentiment = encoder.inverse_transform([predicted_class_index])[0]\n",
        "\n",
        "        return predicted_sentiment, prediction[0][predicted_class_index]\n",
        "\n",
        "    # Contoh kalimat untuk diuji\n",
        "    test_sentences = [\n",
        "        \"Aplikasi ini luar biasa, sangat membantu pekerjaan saya sehari-hari!\",\n",
        "        \"Sering banget error dan keluar sendiri, tolong segera diperbaiki developernya.\",\n",
        "        \"Lumayan sih, fiturnya cukup tapi kadang masih suka lemot.\",\n",
        "        \"Keren, desainnya bagus dan mudah digunakan.\",\n",
        "        \"Kecewa berat, setelah update malah jadi banyak bug.\"\n",
        "    ]\n",
        "\n",
        "    for sentence in test_sentences:\n",
        "        sentiment, confidence = predict_sentiment(sentence)\n",
        "        print(f\"\\nInput     : \\\"{sentence}\\\"\")\n",
        "        print(f\"Prediksi  : {sentiment.upper()} (Confidence: {confidence:.2%})\")"
      ],
      "metadata": {
        "id": "xp7dDoJyHzOv",
        "colab": {
          "base_uri": "https://localhost:8080/"
        },
        "outputId": "8ac0f4da-bbb5-46dd-fcd8-9c5361d180e3"
      },
      "execution_count": 21,
      "outputs": [
        {
          "output_type": "stream",
          "name": "stdout",
          "text": [
            "\n",
            "🧪 INFERENCE - MENGUJI MODEL DENGAN KALIMAT BARU\n",
            "\u001b[1m1/1\u001b[0m \u001b[32m━━━━━━━━━━━━━━━━━━━━\u001b[0m\u001b[37m\u001b[0m \u001b[1m0s\u001b[0m 382ms/step\n",
            "\n",
            "Input     : \"Aplikasi ini luar biasa, sangat membantu pekerjaan saya sehari-hari!\"\n",
            "Prediksi  : POSITIF (Confidence: 96.58%)\n",
            "\u001b[1m1/1\u001b[0m \u001b[32m━━━━━━━━━━━━━━━━━━━━\u001b[0m\u001b[37m\u001b[0m \u001b[1m0s\u001b[0m 60ms/step\n",
            "\n",
            "Input     : \"Sering banget error dan keluar sendiri, tolong segera diperbaiki developernya.\"\n",
            "Prediksi  : NETRAL (Confidence: 99.77%)\n",
            "\u001b[1m1/1\u001b[0m \u001b[32m━━━━━━━━━━━━━━━━━━━━\u001b[0m\u001b[37m\u001b[0m \u001b[1m0s\u001b[0m 67ms/step\n",
            "\n",
            "Input     : \"Lumayan sih, fiturnya cukup tapi kadang masih suka lemot.\"\n",
            "Prediksi  : POSITIF (Confidence: 46.10%)\n",
            "\u001b[1m1/1\u001b[0m \u001b[32m━━━━━━━━━━━━━━━━━━━━\u001b[0m\u001b[37m\u001b[0m \u001b[1m0s\u001b[0m 82ms/step\n",
            "\n",
            "Input     : \"Keren, desainnya bagus dan mudah digunakan.\"\n",
            "Prediksi  : POSITIF (Confidence: 97.69%)\n",
            "\u001b[1m1/1\u001b[0m \u001b[32m━━━━━━━━━━━━━━━━━━━━\u001b[0m\u001b[37m\u001b[0m \u001b[1m0s\u001b[0m 58ms/step\n",
            "\n",
            "Input     : \"Kecewa berat, setelah update malah jadi banyak bug.\"\n",
            "Prediksi  : NEGATIF (Confidence: 88.62%)\n"
          ]
        }
      ]
    },
    {
      "cell_type": "code",
      "source": [
        "!pip freeze > requirements.txt"
      ],
      "metadata": {
        "id": "-QWLr-hnO4Ro"
      },
      "execution_count": 22,
      "outputs": []
    }
  ]
}